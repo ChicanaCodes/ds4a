{
 "cells": [
  {
   "cell_type": "markdown",
   "metadata": {
    "id": "r6yWauzXQYMX",
    "tags": [
     "107_min"
    ]
   },
   "source": [
    "# **Wielding the power of data visualization to effectively convey information**\n"
   ]
  },
  {
   "cell_type": "markdown",
   "metadata": {
    "tags": [
     "5_min"
    ]
   },
   "source": [
    "# Goals\n",
    "The goal of this case is to understand the best practices for data storytelling. Using a completed predictive project, you will \n",
    "1. Identify the context in which you will share the information\n",
    "1. Understand your audience\n",
    "1. Select insights you wish to share\n",
    "1. Review, select and create a communication structure\n",
    "1. Create and organize graphs that fit your audience and context\n",
    "\n",
    "**Note**: This case is a continuation of `case.a_predictive_project_from_start_to_finish`. If you have not finished reviewing that case, please go back and complete it to have the right foundation for this data storytelling case. \n",
    "\n",
    "# Introduction\n",
    "\n",
    "**Business Context**: You are a research analyst at a large investment bank. You have received the task of analyzing airline data and delivering a predictive model to your manager. You have already cleaned, analyzed, and prepared a model. Now, you only have to present your results!\n",
    "\n",
    "**Business Problem**: Your task is to effectively communicate the results of the exploration developed during the first case. Your goal is also to convince the meeting attendees that they can trust the model realized during the first case.\n",
    "\n",
    "**Analytical Context**:\n",
    "During this project, we will use the same datasets from `case.a_predictive_project_from_start_to_finish` as the foundation for the presentation. \n",
    "* The file \"airline_revenues.csv\" contains the quarterly revenue history for every major US airline.\n",
    "* The file \"airline_fuel_cost.csv\" contains the fuel cost history for every major US airline.\n",
    "* The file \"oil.csv\" contains the price history of different oil products.\n",
    "* Bureau of Transportation Statistics (BTS), which contains seemingly pertinent information for the problem.\n",
    "* Twitter, which has measures of tweet density as some type of proxy for the number of passengers.\n",
    "\n",
    "In your presentation, you have the following data/insights to communicate:\n",
    "* United Airlines (UA) Revenue grew after the merger.\n",
    "* UA costs also grew after the merger.\n",
    "* Number of Arrival and Departure UA flights.\n",
    "* The behavior of Kerosene price and UA operational cost is very similar.\n",
    "* Passenger count and Revenue are correlated.\n",
    "* Passenger count can be forecast by using the number of UA tweets.\n",
    "* Production and performance of the predictive model."
   ]
  },
  {
   "cell_type": "markdown",
   "metadata": {
    "id": "Wvac5JLyQYow",
    "tags": [
     "6_min"
    ]
   },
   "source": [
    "# Identifying the Context\n",
    "Since you already know what insights you are going to share, you need to solidify the context of the presentation. You should consider:\n",
    "* Who is your audience?  \n",
    "* How long do you have to explain your ideas? \n",
    "* Is it going to be in person?\n",
    "\n",
    "You proceed by approaching your boss and asking him to give you more details about the meeting. He tells you the meeting is going to take 10 to 15 minutes, it will happen in person, and three people will be in attendance:\n",
    "* The VP of strategy\n",
    "* The VP of finance\n",
    "* Your boss\n",
    "\n",
    "With that in mind, let's begin by understanding the audience.\n",
    "\n",
    "## Audience\n",
    "Now you know who your audience is going to be, it's time to get to know them a little better. There are several important details you need to be sure of before moving forward:\n",
    "* What is the level of general data literacy of the audience?  \n",
    "* How accustomed are they to charts? Do they mostly use bar charts and line charts or are they familiar with more uncommon chart types?\n",
    "* Does your audience have a mental model around certain color palettes or graphical elements?\n",
    "* Are there any accessibility issues that you might need to put special attention to?\n",
    "\n",
    "Depending on the answer to these questions, you would need to adapt your graphs to fit the needs of your audience more easily.\n",
    "\n",
    "With that in mind, here are some cards with the information you would have available about the colleagues that will attend the meeting:\n",
    "\n",
    "![](data/images/img1_3.png)"
   ]
  },
  {
   "cell_type": "markdown",
   "metadata": {
    "id": "UvFY0Vs3QYxF",
    "tags": [
     "3_min"
    ]
   },
   "source": [
    "### **Question 1**\n",
    "Is there any difference in how you would approach each of the meeting attendees? How are they different? Write your answer below."
   ]
  },
  {
   "cell_type": "markdown",
   "metadata": {
    "id": "K2Xjms6WQY3S",
    "tags": [
     "ans_st"
    ]
   },
   "source": [
    "**Answer.**"
   ]
  },
  {
   "cell_type": "markdown",
   "metadata": {},
   "source": [
    "Yes, avoid jargon for the VPs, use stories\n",
    "* Great to use a story structure despite audience\n",
    "* Focus on the outcome that makes sense\n",
    "* Simple, to the point, charts to VPs.\n",
    "* put technical charts in an appendix rather than the main preso\n",
    "* Think about what their goals for the meeting are (e.g. finance wants to see numbers, strategy wants to see forward-looking opportunities)\n",
    "* Use meaningful labels in the charts.\n",
    "* distill highly technical knowledge into simple info\n",
    "* tie everything back to company okrs / high level strategy\n",
    "* for the vps, visualization that’s easy to understand and that they are used to see"
   ]
  },
  {
   "cell_type": "markdown",
   "metadata": {
    "id": "IgjTzpCKQY6a",
    "tags": [
     "3_min"
    ]
   },
   "source": [
    "### **Question 2**\n",
    "None of the assistants to the meeting seem to have any accessibility issues in their card. Would it be okay to not take accessibility into account? Explain your answer below. How would you think about accessibility in general during a presentation?"
   ]
  },
  {
   "cell_type": "markdown",
   "metadata": {},
   "source": [
    "* Yes, would be good to include\n",
    "* communicate the same information, but personalize the visuals with titles/context that work best for the VP's\n",
    "* colorblind friendly plots are always good\n",
    "* visual: colors, text size // auditory: captions\n",
    "* alt text for web images\n",
    "* readable fonts/sizes\n",
    "* remove jargon, have high level points on top of figures\n",
    "* good to use color contrast in case presenatations are printed in black/white\n",
    "* speak slowly and clearly"
   ]
  },
  {
   "cell_type": "markdown",
   "metadata": {
    "id": "E5HZghgiTBKI",
    "tags": [
     "5_min"
    ]
   },
   "source": [
    "# **Best Practices**\n",
    "\n",
    "Usually, when presenting our work we have a limited amount of time to prepare. We have to learn how to use this time effectively in order to convey the most important information.\n",
    "\n",
    "Now that we know our presentation content and audience, let's discuss a set of best practices to take into account when presenting something in front of an audience.\n",
    "\n",
    "First some general tips:\n",
    "1. **Prepare for your presentation.** If you have an important meeting coming up, practice your presentation a few times by reviewing your talking points. If possible, record yourself giving the talk and rewatch the recording to identify any weak points that might appear. \n",
    "\n",
    "1. **Avoid reading off of your presentation**. This will allow you to be more confident make you appear more knowledgeable on the topic\n",
    "\n",
    "1. **Pace your slides**. Several experts put the rate of slides in a powerpoint at 1 slide every two minutes. This is not a rule set in stone but be mindful that you are not spending more than 5 minutes on one slide or changing slides every 10 seconds.\n",
    "\n",
    "1. **Avoid small fonts**. Do not use font sizes under 20px in your presentations. - helps avoid putting too much content on slide\n",
    "\n",
    "1. **Avoid using long paragraphs in your presentations**. The text on the slides shouldn't divide your audience's attention. Long text can make your audience have to decide between reading your slide or listening to you.\n",
    "\n",
    "1. **Use images**. use images, diagrams, graphs, etc as much as possible when the subject and message suits them. Our brains comprehend visual inputs quicker, that way you let your audience's attention rest on your talk as much as possible."
   ]
  },
  {
   "cell_type": "markdown",
   "metadata": {
    "id": "XacvQzArMHca",
    "tags": [
     "4_min"
    ]
   },
   "source": [
    "\n",
    "Now that we have a general idea of how to make effective presentations, let's dive a bit deeper into different tips between in-person and online presentations. \n",
    "\n",
    "## **Online presentations**\n",
    "* Keep your audience engaged. Ask them questions every set amount of time and interact with the audience. \n",
    "* Ask the attendees questions that you plan to answer, eg: ¨How do you think this behavior affected the company bottom line?¨ After the attendee's answer proceed to give a more in-depth view of the insight in the data.\n",
    "* Make sure your internet connection is stable.\n",
    "* Be sure you manage the technology and tools well enough.\n",
    "* Keep meetings short or have breaks. Distractions are more common in the online space.\n",
    "\n",
    "## **In-person presentations**\n",
    "* Be mindful of the attendees' behavior and try to clarify the subject if people seem especially lost.\n",
    "* Project your voice effectively.\n",
    "* Be expressive! Use your body language to help convey the ups and downs in your presentation.\n",
    "\n",
    "In-person and online presentations share a lot of attributes and at the same time have a lot of differences. Identify the strengths of each type of presentation and play to your own attributes when sharing your work.\n",
    "\n",
    "With these recommendations in mind, you are ready to craft the presentation to share the insights you discovered on your last project. "
   ]
  },
  {
   "cell_type": "markdown",
   "metadata": {
    "id": "Ug-hN_mXMJOM",
    "tags": [
     "2_min"
    ]
   },
   "source": [
    "# **Storytelling**\n",
    "\n",
    "After working on your model and reviewing presentation tips, you are ready to create a presentation that will impress your audience. \n",
    "\n",
    "Before we begin, let's review the data/insights you gathered from your predictive model: \n",
    "1. United Airlines (UA) Revenue grew after the merger.\n",
    "2. UA costs also grew after the merger.\n",
    "3. The behavior of Kerosene price and UA operational cost is very similar.\n",
    "4. Arrival and Departures of UA Flights.\n",
    "5. Passenger Count and Revenue are correlated.\n",
    "6. Forecast passenger count by using the number of UA tweets.\n",
    "7. Predictive model production and performance - Prediction vs Actual Revenue.\n",
    "\n",
    "Your need to showcase why the model you created in the first case works. Let's refine our list of insights. "
   ]
  },
  {
   "cell_type": "markdown",
   "metadata": {
    "id": "Et7REsUqM7Xj",
    "tags": [
     "3_min"
    ]
   },
   "source": [
    "### **Question 3** \n",
    "Is there any point from the list you could cut at first glance? Explain your answer below."
   ]
  },
  {
   "cell_type": "markdown",
   "metadata": {
    "id": "DPNaAqcENFLU",
    "tags": [
     "ans_st"
    ]
   },
   "source": [
    "**Answer.**"
   ]
  },
  {
   "cell_type": "markdown",
   "metadata": {},
   "source": [
    "* Arrival and departure information, Not necessary to predictive model\n",
    "* 5 seems obvious, however important to include it for tweaks in revenue model\n",
    "* the kerosene price point seems vague and unclear, and UA costs are covered under #2\n",
    "* Can combine 1 and 2\n",
    "* #6 might be useful but not always turns up to passenger count"
   ]
  },
  {
   "cell_type": "markdown",
   "metadata": {
    "id": "81C7xzIuNX5D",
    "tags": [
     "3_min"
    ]
   },
   "source": [
    "### **Question 4** \n",
    "What insight is the most important? Explain your answer below"
   ]
  },
  {
   "cell_type": "markdown",
   "metadata": {
    "id": "7sTuS8ziNY0s",
    "tags": [
     "ans_st"
    ]
   },
   "source": [
    "**Answer.**"
   ]
  },
  {
   "cell_type": "markdown",
   "metadata": {},
   "source": [
    "* Predictive model production and performance - Prediction vs Actual Revenue."
   ]
  },
  {
   "cell_type": "markdown",
   "metadata": {
    "tags": [
     "1_min"
    ]
   },
   "source": [
    "Now we know what insights are at the heart of our story (Performance - Prediction vs Actual Revenue) and which ones are not necessary (Number of Arrivals and Departures of UA Flights). We now have the raw materials for your story, so let's move to the next step."
   ]
  },
  {
   "cell_type": "markdown",
   "metadata": {
    "id": "mWBdcXa1OPq_",
    "tags": [
     "20_min"
    ]
   },
   "source": [
    "## **How to structure your insights/story?**\n",
    "\n",
    "Think about a story as a 3-act structure: \n",
    "1. Setup\n",
    "2. Confrontation\n",
    "3. Resolution\n",
    "\n",
    "While that structure can be helpful in data storytelling there are other ways in which you can structure your story for it to be engaging and consumable for your audience.\n",
    "\n",
    "[Gurman Bhatia](https://www.gurmanbhatia.com/), an information designer, compiled a list of the most common structures seen in data journalism and data storytelling. Here are some of them:\n",
    "\n",
    "1. Inverted Pyramid\n",
    "\n",
    "The inverted pyramid is a format used frequently in the news. The stories on the front page of a newspaper are most likely to follow this structure. It starts with the most important information on the top and as you move further in the story, the priority of the information decreases. With this structure, the reader can move away from the story at any point in time.\n",
    "\n",
    "![](data/images/img5.jpeg)\n",
    "\n",
    "2.  Martini Glass\n",
    "\n",
    "The Martini glass structure starts with the inverted pyramid, a general insight that narrows, and follows it up with a walkthrough of chronological events and a strong ending\n",
    "![](data/images/img6.jpeg)\n",
    "\n",
    "3. Hourglass\n",
    "\n",
    "You start zoomed out with a general view of the problem or insights, you then zoom in to identify important details or provide context and then zoom out again to a more complete view of the initial insight or problem.\n",
    "\n",
    "![](data/images/img7.jpeg)\n",
    "\n",
    "\n",
    "4. Horizontal Martini\n",
    "\n",
    "This structure is mainly used for stories with a strong exploratory angle. Sometimes telling the story is not enough and you have to let your audience explore the data by themselves. This way of structuring your story is ideal.\n",
    "![](data/images/img8.jpeg)\n",
    "\n",
    "5. Diamond\n",
    "\n",
    "You start with a detailed insight or anecdote related to the story, move out to see the big picture, and then zoom in again to provide a more complete understanding of the original insight or anecdote.\n",
    "![](data/images/img9.jpeg)\n",
    "\n",
    "Use these structures to help you think about how you can zoom in and out of the data and how you can build your story.\n"
   ]
  },
  {
   "cell_type": "markdown",
   "metadata": {
    "id": "IFFvqsIBPNo7",
    "tags": [
     "3_min"
    ]
   },
   "source": [
    "### **Question 5**\n",
    "\n",
    "What do you think would be a good structure for our case? Explain the flow you imagine for the story below."
   ]
  },
  {
   "cell_type": "markdown",
   "metadata": {
    "id": "onOkg5DCQRJv",
    "tags": [
     "ans_st"
    ]
   },
   "source": [
    "**Answer.**"
   ]
  },
  {
   "cell_type": "markdown",
   "metadata": {},
   "source": [
    "* Hourglass - zoom in, zoom out\n",
    "* Presenter leans into hourglass we have merger happen, have revenue changed in past, want to build predicitive tool, see how it's build and then show it's performance "
   ]
  },
  {
   "cell_type": "markdown",
   "metadata": {
    "id": "WY6qcGCtQQ9-",
    "tags": [
     "2_min"
    ]
   },
   "source": [
    "The different structures breaks things down into four key decisions:\n",
    "* Order of elements\n",
    "* Explore or explain\n",
    "* Visuals or words\n",
    "* Zoom in or zoom out\n",
    "\n",
    "When optimized, those decisions can help you bring curiosity to the readers’ experience and bring out the best and most persuasive version of your story.\n",
    "\n",
    "So now that you have chosen a general structure for your story, it is time to build it."
   ]
  },
  {
   "cell_type": "markdown",
   "metadata": {
    "id": "tebpQfaWQQzr",
    "tags": [
     "3_min"
    ]
   },
   "source": [
    "# **Ghost Deck**\n",
    "\n",
    "Building a story can be a difficult process. One of the most useful ways of making the different elements build together is to visualize them in an overview. A technique to simplify the process is to build a ghost deck to organize your ideas in a slide format. This technique is also commonly used by consulting firms.\n",
    "\n",
    "A **ghost deck** is a mockup of a presentation in which you only write the general idea of what information should flow. There is no need to add specific text, images, or even charts. This technique will give some structure to your ideas and story and also will help you with the structure needed for future development. Consider elements that will help define the flow of your presentation. \n",
    "\n",
    "Sometimes presentations are built using charts and text one slide at a time without having a general idea of the message that will be presented. Ghost Decks helps us alleviate this issue by forcing us to think about the whole story instead of one slide.\n",
    "\n",
    "![](data/images/img10.png)"
   ]
  },
  {
   "cell_type": "markdown",
   "metadata": {
    "id": "76vG9w7XQQn4",
    "tags": [
     "5_min"
    ]
   },
   "source": [
    "### **Exercise 1**\n",
    "\n",
    "How would you structure a ghost deck for your presentation? Try building your own version in pen and paper or any tool you are comfortable with. "
   ]
  },
  {
   "cell_type": "markdown",
   "metadata": {
    "id": "9csxttHhSg0G",
    "tags": [
     "ans_st"
    ]
   },
   "source": [
    "**Answer.**"
   ]
  },
  {
   "cell_type": "markdown",
   "metadata": {},
   "source": [
    "https://jamboard.google.com/d/1EE_f8fz_iOelSomTvd1E2gqGBlRgzY3baMW8T1rfOck/viewer\n",
    "Project Title-> Overview of the project (describing the aim and goal, also briefing about predictive modeling done and the key features used for it)-> Talking about key feature 1 studied and results generated from it (2 slides) same thing for all the features considered. -> Final summary slide about how each feature and merger contributed towards the outcome-> Conclusion slide -> Thank you and Q/A Slide\n",
    "![](data/images/image.png) ![](data/images/flow.png)\n"
   ]
  },
  {
   "cell_type": "markdown",
   "metadata": {
    "id": "H8ARrSyHTAPR",
    "tags": [
     "10_min"
    ]
   },
   "source": [
    "# **Data Storytelling**\n",
    "Let's summarize what we've done so far:\n",
    "1. Define what information you wanted to communicate\n",
    "2. Understand your audience and their needs\n",
    "3. Select most important insights discovered in the data needed to share the main idea clearly with your audience\n",
    "4. Structured them in a readable and concise manner\n",
    "5. Built a tool which helped us know what message should be conveyed by a specific graph\n",
    "\n",
    "With all that groundwork behind us, it is time to build charts for our presentation. We are going to go through the process of creating the chart that showcases the current model performance. Let's begin!\n",
    "\n",
    "## **The What**\n",
    "You have defined the most important insights of your story and you have also defined what specific message a chart has to convey to be effective.\n",
    "\n",
    "Using this knowledge you can start narrowing your chart options. \n",
    "\n",
    "Here are some questions to consider:Do you need to show the change between different states? The difference in magnitude? Change over time? The important part of the relationship between categories or the relationship of each category to the whole?\n",
    "\n",
    "In this case, we want to showcase how close the prediction is to the actual observed value and how it compares to some of our previous models to see why it is the best choice.\n",
    "\n",
    "## **The Who**\n",
    "Let's remember who this graph is for. We need to create a chart that's readable by everyone, not only experts. That means avoiding complex naming and adding explainers and annotations to give context.\n",
    "\n",
    "Let's also avoid any readability issues by making sure the font size we use is big enough and that the colors we use don't have any color perception issues.\n",
    "\n",
    "Let's start working then!\n",
    "\n",
    "### **Original Chart**\n",
    "\n",
    "This is the chart that you created for the final model in the first case, we will use it as the foundation for our slide and example.\n",
    "\n",
    "![](data/images/img12.png)"
   ]
  },
  {
   "cell_type": "markdown",
   "metadata": {
    "id": "BU_F0j3DTXo9",
    "tags": [
     "3_min"
    ]
   },
   "source": [
    "### **Question 6**\n",
    "What things do you think we could improve in this chart? Write your ideas below. "
   ]
  },
  {
   "cell_type": "markdown",
   "metadata": {
    "tags": [
     "ans_st"
    ]
   },
   "source": [
    "**Answer.**"
   ]
  },
  {
   "cell_type": "markdown",
   "metadata": {},
   "source": [
    "* Add grids to get the feel of the values\n",
    "* we dont need the training samples highlighted\n",
    "* clarify that the yellow and light blue are overlapping\n",
    "* fit in a curve to show the trend\n",
    "* scale: make y axis shorter\n",
    "* add the lines of predictions by other models for comparison\n",
    "* a caption describing the point its showing\n",
    "* comparison to other models\n",
    "* high-level takeaways\n",
    "* summary of training/test perfomance\n",
    "* add chart with errors \n",
    "* Keep in mind who we are communicating to!\n",
    "* Make it as easiest possible for higher ups to understand"
   ]
  },
  {
   "cell_type": "markdown",
   "metadata": {
    "id": "CNi7gvVSUBJ3"
   },
   "source": [
    "The graph has different elements that we could tackle in order to fulfill our goal of communicating “how close the prediction is to the actual observed value and how it compares to some of our previous models to see why it is the best choice”. \n",
    "\n",
    "We are going to go over changes that are important and some good data visualization practices."
   ]
  },
  {
   "cell_type": "markdown",
   "metadata": {
    "id": "Z3YkrQtxUA71",
    "tags": [
     "3_min"
    ]
   },
   "source": [
    "## **Clean the Clutter**\n",
    "Usually, the default settings of programs or some charting libraries need some extra care to be ideal. These settings tend to make our graphs feel overloaded and distract the readers from the core message we want to communicate.\n",
    "\n",
    "It's always a good idea to check your chart and define what elements are vital for communicating your message and highlighting them accordingly.\n",
    "\n",
    "In our original chart, the axes are overly detailed and they are not central to our core goal of showcasing the model performance and selection. So we simplify them.\n",
    "\n",
    "![](data/images/img14.png)\n",
    "\n",
    "With this new version, we arrive at a new crossroad."
   ]
  },
  {
   "cell_type": "markdown",
   "metadata": {
    "id": "1ZCNFNxOWuLA",
    "tags": [
     "3_min"
    ]
   },
   "source": [
    "### **Question 7**\n",
    "Do you think the performance during the training period is vital to our goal? Explain below."
   ]
  },
  {
   "cell_type": "markdown",
   "metadata": {
    "id": "UnAhMFB0Wu53",
    "tags": [
     "ans_st"
    ]
   },
   "source": [
    "**Answer.**"
   ]
  },
  {
   "cell_type": "markdown",
   "metadata": {},
   "source": [
    "* Yes, to show bias, if any\n",
    "* i think its helpful to demonstrate you weren't using a period with only positive gains\n",
    "* Yea to see the trajectory. How it performed"
   ]
  },
  {
   "cell_type": "markdown",
   "metadata": {
    "id": "f1DfJNCrW_HJ",
    "tags": [
     "6_min"
    ]
   },
   "source": [
    "## **Adding other models and using color**\n",
    "To make comparison easier between models, we can add the prediction values of other models created during the first case on the graph.\n",
    "\n",
    "We also take the chance of using colors to differentiate them. The colors used were picked to be as recognizable as possible and to avoid any issues with people that might have color perception problems.\n",
    "\n",
    "It's also important to identify that we moved the legend from the square on the top left to the right so that the information is next to the data it is referencing.\n",
    "\n",
    "![](data/images/img16.png)\n",
    "\n",
    "## How can you identify if your palette has color issues? \n",
    "At the moment the most simple way to identify any issues with your palette is using a tool like [Viz Palette](https://projects.susielu.com/viz-palette?colors=[%22#ffd700%22,%22#ea5f94%22,%22#0000ff%22]&backgroundColor=%22white%22&fontColor=%22black%22&mode=%22deuteranomaly%22) or [Adobe Color Accessibility Tools.](https://color.adobe.com/create/color-accessibility)\n",
    "\n",
    "![](data/images/img17.png)\n",
    "\n",
    "\n",
    "## How can I pick a palette? \n",
    "There are several sites that can help you pick a color palette for data visualization, some of the most useful are:\n",
    "* [CARTO Colors](http://carto.com/carto-colors/)\n",
    "* [Data Color Picker](https://www.learnui.design/tools/data-color-picker.html)\n",
    "* [Datawrapper Color Guide](https://blog.datawrapper.de/colorguide/)\n"
   ]
  },
  {
   "cell_type": "markdown",
   "metadata": {
    "id": "D0HzOWjnXBLr",
    "tags": [
     "5_min"
    ]
   },
   "source": [
    "## **Use text wisely**\n",
    "\n",
    "Text is an often overlooked area of data visualization because presenters focus on perfecting the chart, picking the right palette, etc. The text is a vital part of visualizing data and is usually one of the best ways of making sure that your message is being transmitted effectively.\n",
    "\n",
    "In most charts, titles tend to be very descriptive and repeat the name of the variables that are present in the chart. One of the easiest ways to level up your charts is to make your titles “active” and to make them describe the message you want to transmit in a tweet-like manner.\n",
    "\n",
    "![](data/images/img18.png)"
   ]
  },
  {
   "cell_type": "markdown",
   "metadata": {
    "id": "2M-UZJN-XAvA",
    "tags": [
     "3_min"
    ]
   },
   "source": [
    "## Annotations\n",
    "\n",
    "Another best practice is to use annotations. Annotations are small tidbits of text that give extra context to the chart. These tidbits of information usually help non-expert readers comprehend your chart easier and understand the more complex ideas a little bit quicker.\n",
    "\n",
    "In this case, we just used the annotations to give the meeting participants more information on the performance of the model.\n",
    "\n",
    "![](data/images/img19.png)"
   ]
  },
  {
   "cell_type": "markdown",
   "metadata": {
    "id": "5e-_v2INZMsu",
    "tags": [
     "4_min"
    ]
   },
   "source": [
    "## **Resources**\n",
    "\n",
    "We have modified the original chart and it is ready to go into your presentation. Now it's time to keep modifying your slides and other charts in a similar manner to make sure you are communicating your message effectively.\n",
    "\n",
    "Remember:\n",
    "* Avoid Clutter\n",
    "* Simplify your charts/Filter unnecessary elements\n",
    "* Use accessible color palettes\n",
    "* Use Active Titles\n",
    "* Annotate! Annotate!\n",
    "\n",
    "Here are some general resources that can help you keep improving in the world of data visualization.\n",
    "\n",
    "For Picking Charts\n",
    "* [Data Viz Catalogue](https://datavizcatalogue.com)\n",
    "* [Data Viz Project](https://datavizproject.com)\n",
    "* [D3.js](https://d3js.org/)\n",
    "* [Seaborn](https://seaborn.pydata.org/)\n",
    "* [Tableau](https://www.tableau.com/)\n",
    "\n",
    "For General Tips\n",
    "* [Nightingale](https://nightingaledvs.com)\n",
    "* [Datawrapper: Dos and Don'ts](https://blog.datawrapper.de/category/datavis-dos-and-donts/)\n",
    "\n",
    "For Inspiration\n",
    "* [Data Viz Dispatch](https://blog.datawrapper.de/category/data-vis-dispatch/)\n",
    "* [Information is Beautiful Awards](https://www.informationisbeautifulawards.com/showcase?award=2022&type=awards)\n",
    "\n",
    "For Community\n",
    "* [Data Viz Society](https://www.datavisualizationsociety.org)\n",
    "* [Elevate](https://www.elevatedataviz.com)\n",
    "* [Technology Review](https://www.technologyreview.com/2019/10/17/75285/ai-fairer-than-judge-criminal-risk-assessment-algorithm/)\n",
    "* [The City](https://www.thecity.nyc/)\n",
    "* [Pro Publica](https://www.propublica.org/)\n",
    "* [The New York Times - Graphics](https://www.nytimes.com/spotlight/graphics)\n",
    "* [The Guardian](https://www.theguardian.com/data)\n",
    "* [538](https://fivethirtyeight.com/)\n",
    "* [The Markup](https://themarkup.org/)\n",
    "* [NYT](https://www.nytimes.com/spotlight/graphics)\n",
    "\n",
    "You can also watch this talk by Alberto Cairo: [Reason, Not Rules.](https://harvard.hosted.panopto.com/Panopto/Pages/Viewer.aspx?id=cb8f5389-f453-431c-8fc8-ac3d00e1ddaf)\n",
    "\n",
    "\n",
    "Example:\n",
    "https://www.theguardian.com/membership/datablog/2020/may/09/data-covid-19-numbers-story-pandemic-guardian-statistics"
   ]
  },
  {
   "cell_type": "markdown",
   "metadata": {
    "id": "fHve_r5fZMeM",
    "tags": [
     "2_min"
    ]
   },
   "source": [
    "# Conclusion\n",
    "\n",
    "In this case, we modified a graph step by step following the guidelines we created in order to communicate effectively our desired message. It was a long journey we:\n",
    "* Identified our insights and users.\n",
    "* Clarified the message we needed to transmit.\n",
    "* Defined our story structure \n",
    "* Planned our presentation using a ghost deck\n",
    "* Modified our original chart to fit our goals.\n",
    "\n",
    "It's important to keep the big picture of our message and goal in mind at each stage.  Data Visualization is part art and part science and sometimes answers might not be ideal but navigating your decision with your goal as an anchor will help you deliver great results consistently."
   ]
  },
  {
   "cell_type": "markdown",
   "metadata": {},
   "source": [
    "# Attribution\n",
    "\n",
    "Bhatia, G. (2021, March 9). Structuring visual narratives to feed the curiosity. Gurman Bhatia. Retrieved December 8, 2022, from https://www.gurmanbhatia.com/talk/2021/03/09/stories-structure.html\n"
   ]
  }
 ],
 "metadata": {
  "kernelspec": {
   "display_name": "Python 3 (ipykernel)",
   "language": "python",
   "name": "python3"
  },
  "language_info": {
   "codemirror_mode": {
    "name": "ipython",
    "version": 3
   },
   "file_extension": ".py",
   "mimetype": "text/x-python",
   "name": "python",
   "nbconvert_exporter": "python",
   "pygments_lexer": "ipython3",
   "version": "3.11.2"
  }
 },
 "nbformat": 4,
 "nbformat_minor": 1
}
