{
 "cells": [
  {
   "cell_type": "markdown",
   "metadata": {
    "tags": [
     "61_min",
     "110_min"
    ]
   },
   "source": [
    "# Evaluating employee performance"
   ]
  },
  {
   "cell_type": "markdown",
   "metadata": {
    "tags": [
     "1_min"
    ]
   },
   "source": [
    "## Goals\n",
    "\n",
    "In this case you will learn how to use aggregate functions to summarize data within a database. You will also develop a greater understanding of the structure of databases and how to use this structure to perform more advanced queries across multiple tables."
   ]
  },
  {
   "cell_type": "markdown",
   "metadata": {
    "tags": [
     "4_min"
    ]
   },
   "source": [
    "## Introduction\n",
    "\n",
    "**Business Context.** You are an HR representative at a large financial services firm that sells a diverse set of products. In order to make these sales, the firm relies on a call center where sales agents make calls to current as well as prospective customers. The company would like you to analyze their data about the performance of their sales agents and determine who to promote/keep and who to cut.\n",
    "\n",
    "**Business Problem.** You are tasked with answering the following question: **\"Which of our sales agents are the most/least productive?**\n",
    "\n",
    "**Analytical Context.** The data is split across 3 tables: [`agent.xlsx`](data/agent.xlsx), [`call.xslx`](data/call.xlsx), and [`customer.xlsx`](data/customer.xlsx)\n",
    "\n",
    "The case is sequenced as follows: you will (1) learn the fundamentals of databases and SQL; (2) use SQL `SELECT` statements to identify potentially interesting customers; and (3) use SQL aggregation functions to compute summary statistics on your agents and identify the most/least productive ones."
   ]
  },
  {
   "cell_type": "markdown",
   "metadata": {
    "tags": [
     "2_min"
    ]
   },
   "source": [
    "## Initializing the SQLite database\n",
    "\n",
    "Run the following cells to load our database in to the notebook:\n",
    "\n",
    "**Note:** Don't worry about learning this code, it isn't SQL!"
   ]
  },
  {
   "cell_type": "code",
   "execution_count": 1,
   "metadata": {},
   "outputs": [],
   "source": [
    "%%capture\n",
    "!pip install ipython-sql sqlalchemy\n",
    "import sqlalchemy\n",
    "sqlalchemy.create_engine(\"sqlite:///call_center_database2.db\")\n",
    "%load_ext sql\n",
    "%sql sqlite:///call_center_database2.db"
   ]
  },
  {
   "cell_type": "markdown",
   "metadata": {
    "tags": [
     "5_min"
    ]
   },
   "source": [
    "### Taking a look at the database\n",
    "\n",
    "The following is an [**entity-relationship digram (ERD)**](https://en.wikipedia.org/wiki/Entity%E2%80%93relationship_model) that shows our three tables, their components, and the connections between the tables. Diagrams like the one below are useful for conceptualizing how our database looks from a top-down perspective. As you can see the [primary keys](https://www.w3schools.com/sql/sql_primarykey.ASP) (`AgentID` and `CustomerID`) from the `agent` and `customer` table exist as [foreign keys](https://www.w3schools.com/sql/sql_foreignkey.ASP) on the `call` table. Note the call table also has it's own primary key, `CallID`:\n",
    "\n",
    "![ERDiagram](data/images/ERDiagram.png)\n",
    "\n",
    "It's important to know exactly how our tables interact with one another to perform more advanced queries. For instance, SQL uses these connections in order to properly execute `JOIN` operations. Use this diagram as a reference throughout the case to help visualize how our data is structured."
   ]
  },
  {
   "cell_type": "markdown",
   "metadata": {
    "tags": [
     "6_min"
    ]
   },
   "source": [
    "## Using aggregate functions\n",
    "\n",
    "In order to evaluate our agents' performance, we'll need the help of [**aggregate functions**](https://mode.com/sql-tutorial/sql-aggregate-functions/). An aggregate function allows you to perform a mathematical calculation on a set of values in your database, then returns a single value that summarizes those values in some way. The following are the most commonly-used SQL aggregate functions:\n",
    "\n",
    "1. **`COUNT()`** - counts rows in a specified column or table\n",
    "2. **`SUM()`** - calculates the sum of values\n",
    "3. **`AVG()`** - calculates the average of a set of values\n",
    "4. **`MIN()`** - finds the minimum value in a set of values\n",
    "5. **`MAX()`** - finds the maximum value in a set of values\n",
    "\n",
    "In order to get a general idea of how our agents are performing, let's get a tally of how many calls were made vs. the total products sold. We'll be using `COUNT()` to get the total number of rows in the calls table and `SUM()` to add up all the 1s in the `ProductSold` column:"
   ]
  },
  {
   "cell_type": "code",
   "execution_count": 2,
   "metadata": {},
   "outputs": [
    {
     "name": "stdout",
     "output_type": "stream",
     "text": [
      " * sqlite:///call_center_database2.db\n",
      "Done.\n"
     ]
    },
    {
     "data": {
      "text/html": [
       "<table>\n",
       "    <tr>\n",
       "        <th>TotalCalls</th>\n",
       "        <th>TotalSales</th>\n",
       "    </tr>\n",
       "    <tr>\n",
       "        <td>9940</td>\n",
       "        <td>2089</td>\n",
       "    </tr>\n",
       "</table>"
      ],
      "text/plain": [
       "[(9940, 2089)]"
      ]
     },
     "execution_count": 2,
     "metadata": {},
     "output_type": "execute_result"
    }
   ],
   "source": [
    "%%sql\n",
    "\n",
    "SELECT COUNT(*) AS TotalCalls, SUM(ProductSold) AS TotalSales \n",
    "FROM call"
   ]
  },
  {
   "cell_type": "markdown",
   "metadata": {},
   "source": [
    "Note that we used `COUNT(*)` in this example. `COUNT(*)`, like `SELECT *`, can be read as \"Count all\" and counts every row in a table without needing to specify a column."
   ]
  },
  {
   "cell_type": "markdown",
   "metadata": {
    "tags": [
     "4_min"
    ]
   },
   "source": [
    "### Evaluating our agents individually\n",
    "\n",
    "It looks like our agents have a ~21% success rate as a group, but this doesn't tell us anything about their individual performance. To look at success rate on an agent-by-agent basis, we'll need a new keyword: **`GROUP BY`**. [GROUP BY](https://www.w3schools.com/sql/sql_groupby.asp) combines rows that have the same value in a particular column and is often used in conjunction with aggregate functions to perform multiple mathematical operations at once. The syntax is:\n",
    "~~~sql\n",
    "\n",
    "GROUP BY column_name\n",
    "\n",
    "~~~\n",
    "\n",
    "where the rows will be grouped by identical values within the column specified. For instance, using `GROUP BY Occupation` on the customer table will create a single row for each unique occupation. Any aggregate function will then be applied on the values in the rows that were grouped together for a particular occupation.\n",
    "\n",
    "`GROUP BY` is used after `SELECT` and any conditionals such as `WHERE` or `CASE...END`, but before `ORDER BY`."
   ]
  },
  {
   "cell_type": "markdown",
   "metadata": {
    "tags": [
     "6_min"
    ]
   },
   "source": [
    "### Exercise 1\n",
    "\n",
    "Write a query that outputs each agent's name, their total calls made, and their total successful sales. Order the new query by agent name in ascending order."
   ]
  },
  {
   "cell_type": "markdown",
   "metadata": {
    "tags": [
     "ans_st"
    ]
   },
   "source": [
    "**Answer.**"
   ]
  },
  {
   "cell_type": "code",
   "execution_count": 5,
   "metadata": {},
   "outputs": [
    {
     "name": "stdout",
     "output_type": "stream",
     "text": [
      " * sqlite:///call_center_database2.db\n",
      "Done.\n"
     ]
    },
    {
     "data": {
      "text/html": [
       "<table>\n",
       "    <tr>\n",
       "        <th>Name</th>\n",
       "        <th>TotalCalls</th>\n",
       "        <th>TotalSales</th>\n",
       "    </tr>\n",
       "    <tr>\n",
       "        <td>Agent X</td>\n",
       "        <td>921</td>\n",
       "        <td>194</td>\n",
       "    </tr>\n",
       "    <tr>\n",
       "        <td>Angel Briggs</td>\n",
       "        <td>881</td>\n",
       "        <td>157</td>\n",
       "    </tr>\n",
       "    <tr>\n",
       "        <td>Christopher Moreno</td>\n",
       "        <td>910</td>\n",
       "        <td>189</td>\n",
       "    </tr>\n",
       "    <tr>\n",
       "        <td>Dana Hardy</td>\n",
       "        <td>847</td>\n",
       "        <td>182</td>\n",
       "    </tr>\n",
       "    <tr>\n",
       "        <td>Gloria Singh</td>\n",
       "        <td>926</td>\n",
       "        <td>209</td>\n",
       "    </tr>\n",
       "    <tr>\n",
       "        <td>Jocelyn Parker</td>\n",
       "        <td>844</td>\n",
       "        <td>184</td>\n",
       "    </tr>\n",
       "    <tr>\n",
       "        <td>Lisa Cordova</td>\n",
       "        <td>919</td>\n",
       "        <td>201</td>\n",
       "    </tr>\n",
       "    <tr>\n",
       "        <td>Michele Williams</td>\n",
       "        <td>976</td>\n",
       "        <td>198</td>\n",
       "    </tr>\n",
       "    <tr>\n",
       "        <td>Paul Nunez</td>\n",
       "        <td>920</td>\n",
       "        <td>194</td>\n",
       "    </tr>\n",
       "    <tr>\n",
       "        <td>Randy Moore</td>\n",
       "        <td>883</td>\n",
       "        <td>177</td>\n",
       "    </tr>\n",
       "    <tr>\n",
       "        <td>Todd Morrow</td>\n",
       "        <td>912</td>\n",
       "        <td>204</td>\n",
       "    </tr>\n",
       "</table>"
      ],
      "text/plain": [
       "[('Agent X', 921, 194),\n",
       " ('Angel Briggs', 881, 157),\n",
       " ('Christopher Moreno', 910, 189),\n",
       " ('Dana Hardy', 847, 182),\n",
       " ('Gloria Singh', 926, 209),\n",
       " ('Jocelyn Parker', 844, 184),\n",
       " ('Lisa Cordova', 919, 201),\n",
       " ('Michele Williams', 976, 198),\n",
       " ('Paul Nunez', 920, 194),\n",
       " ('Randy Moore', 883, 177),\n",
       " ('Todd Morrow', 912, 204)]"
      ]
     },
     "execution_count": 5,
     "metadata": {},
     "output_type": "execute_result"
    }
   ],
   "source": [
    "%%sql \n",
    "SELECT\n",
    "    agent.Name, \n",
    "    COUNT(*) AS TotalCalls, \n",
    "    SUM(ProductSold) AS TotalSales\n",
    "FROM\n",
    "    call\n",
    "JOIN agent on call.AgentID = agent.AgentID\n",
    "GROUP BY agent.AgentID\n",
    "ORDER BY agent.Name ASC"
   ]
  },
  {
   "cell_type": "markdown",
   "metadata": {
    "tags": [
     "7_min"
    ]
   },
   "source": [
    "We could now divide the number of successful sales by the total number of calls for each agent to determine each agent's success rate, but there's an easier way to get this information with the `AVG()` function. Since our `ProductSold` column is either a 0 or 1 taking the average will give us the percentage success rate for each of our agents. Let's try using `AVG()` on the `ProductSold` column and order this new column from largest to smallest (descending):"
   ]
  },
  {
   "cell_type": "code",
   "execution_count": 4,
   "metadata": {},
   "outputs": [
    {
     "name": "stdout",
     "output_type": "stream",
     "text": [
      " * sqlite:///call_center_database2.db\n",
      "Done.\n"
     ]
    },
    {
     "data": {
      "text/html": [
       "<table>\n",
       "    <tr>\n",
       "        <th>Name</th>\n",
       "        <th>TotalCalls</th>\n",
       "        <th>SuccessPercent</th>\n",
       "    </tr>\n",
       "    <tr>\n",
       "        <td>Gloria Singh</td>\n",
       "        <td>926</td>\n",
       "        <td>0.22570194384449244</td>\n",
       "    </tr>\n",
       "    <tr>\n",
       "        <td>Todd Morrow</td>\n",
       "        <td>912</td>\n",
       "        <td>0.2236842105263158</td>\n",
       "    </tr>\n",
       "    <tr>\n",
       "        <td>Lisa Cordova</td>\n",
       "        <td>919</td>\n",
       "        <td>0.21871599564744287</td>\n",
       "    </tr>\n",
       "    <tr>\n",
       "        <td>Jocelyn Parker</td>\n",
       "        <td>844</td>\n",
       "        <td>0.21800947867298578</td>\n",
       "    </tr>\n",
       "    <tr>\n",
       "        <td>Dana Hardy</td>\n",
       "        <td>847</td>\n",
       "        <td>0.21487603305785125</td>\n",
       "    </tr>\n",
       "    <tr>\n",
       "        <td>Paul Nunez</td>\n",
       "        <td>920</td>\n",
       "        <td>0.2108695652173913</td>\n",
       "    </tr>\n",
       "    <tr>\n",
       "        <td>Agent X</td>\n",
       "        <td>921</td>\n",
       "        <td>0.21064060803474485</td>\n",
       "    </tr>\n",
       "    <tr>\n",
       "        <td>Christopher Moreno</td>\n",
       "        <td>910</td>\n",
       "        <td>0.2076923076923077</td>\n",
       "    </tr>\n",
       "    <tr>\n",
       "        <td>Michele Williams</td>\n",
       "        <td>976</td>\n",
       "        <td>0.2028688524590164</td>\n",
       "    </tr>\n",
       "    <tr>\n",
       "        <td>Randy Moore</td>\n",
       "        <td>883</td>\n",
       "        <td>0.20045300113250283</td>\n",
       "    </tr>\n",
       "    <tr>\n",
       "        <td>Angel Briggs</td>\n",
       "        <td>881</td>\n",
       "        <td>0.1782065834279228</td>\n",
       "    </tr>\n",
       "</table>"
      ],
      "text/plain": [
       "[('Gloria Singh', 926, 0.22570194384449244),\n",
       " ('Todd Morrow', 912, 0.2236842105263158),\n",
       " ('Lisa Cordova', 919, 0.21871599564744287),\n",
       " ('Jocelyn Parker', 844, 0.21800947867298578),\n",
       " ('Dana Hardy', 847, 0.21487603305785125),\n",
       " ('Paul Nunez', 920, 0.2108695652173913),\n",
       " ('Agent X', 921, 0.21064060803474485),\n",
       " ('Christopher Moreno', 910, 0.2076923076923077),\n",
       " ('Michele Williams', 976, 0.2028688524590164),\n",
       " ('Randy Moore', 883, 0.20045300113250283),\n",
       " ('Angel Briggs', 881, 0.1782065834279228)]"
      ]
     },
     "execution_count": 4,
     "metadata": {},
     "output_type": "execute_result"
    }
   ],
   "source": [
    "%%sql\n",
    "\n",
    "SELECT agent.name, COUNT(*) AS TotalCalls, AVG(call.ProductSold) AS SuccessPercent FROM call\n",
    "JOIN agent ON agent.AgentID = call.AgentID\n",
    "GROUP BY agent.name\n",
    "ORDER BY SuccessPercent DESC"
   ]
  },
  {
   "cell_type": "markdown",
   "metadata": {},
   "source": [
    "We can see that in terms of percentage of calls that end in a sale, our highest performing agent is Gloria Singh and our lowest performing agent is Angel Briggs. From our earlier query we know the success rate is ~21%. Most of our agents fall within ~1% of this average with Angel Briggs being an obvious outlier."
   ]
  },
  {
   "cell_type": "markdown",
   "metadata": {},
   "source": [
    "While our `SuccessPercent` metric is useful, it may not be entirely fair to judge our agents' performance entirely based on this. For instance, this metric doesn't consider whether a call was even answered or not, nor does it consider the age of the customer answering. "
   ]
  },
  {
   "cell_type": "markdown",
   "metadata": {
    "tags": [
     "10_min"
    ]
   },
   "source": [
    "### Exercise 2\n",
    "\n",
    "Modify the query in Exercise 1 to only consider calls which the customer answered, and where the customer's age is at least 18.\n",
    "\n",
    "**Hint:** You may want to use the **`AND`** and **`OR`** keywords."
   ]
  },
  {
   "cell_type": "markdown",
   "metadata": {
    "tags": [
     "ans_st"
    ]
   },
   "source": [
    "**Answer.**"
   ]
  },
  {
   "cell_type": "code",
   "execution_count": 8,
   "metadata": {},
   "outputs": [
    {
     "name": "stdout",
     "output_type": "stream",
     "text": [
      " * sqlite:///call_center_database2.db\n",
      "Done.\n"
     ]
    },
    {
     "data": {
      "text/html": [
       "<table>\n",
       "    <tr>\n",
       "        <th>Name</th>\n",
       "        <th>TotalCalls</th>\n",
       "        <th>SuccessPercent</th>\n",
       "    </tr>\n",
       "    <tr>\n",
       "        <td>Todd Morrow</td>\n",
       "        <td>490</td>\n",
       "        <td>0.3346938775510204</td>\n",
       "    </tr>\n",
       "    <tr>\n",
       "        <td>Gloria Singh</td>\n",
       "        <td>530</td>\n",
       "        <td>0.3264150943396226</td>\n",
       "    </tr>\n",
       "    <tr>\n",
       "        <td>Dana Hardy</td>\n",
       "        <td>416</td>\n",
       "        <td>0.31490384615384615</td>\n",
       "    </tr>\n",
       "    <tr>\n",
       "        <td>Jocelyn Parker</td>\n",
       "        <td>474</td>\n",
       "        <td>0.310126582278481</td>\n",
       "    </tr>\n",
       "    <tr>\n",
       "        <td>Agent X</td>\n",
       "        <td>496</td>\n",
       "        <td>0.3064516129032258</td>\n",
       "    </tr>\n",
       "    <tr>\n",
       "        <td>Lisa Cordova</td>\n",
       "        <td>485</td>\n",
       "        <td>0.29690721649484536</td>\n",
       "    </tr>\n",
       "    <tr>\n",
       "        <td>Randy Moore</td>\n",
       "        <td>466</td>\n",
       "        <td>0.2939914163090129</td>\n",
       "    </tr>\n",
       "    <tr>\n",
       "        <td>Christopher Moreno</td>\n",
       "        <td>494</td>\n",
       "        <td>0.2935222672064777</td>\n",
       "    </tr>\n",
       "    <tr>\n",
       "        <td>Michele Williams</td>\n",
       "        <td>524</td>\n",
       "        <td>0.2881679389312977</td>\n",
       "    </tr>\n",
       "    <tr>\n",
       "        <td>Paul Nunez</td>\n",
       "        <td>506</td>\n",
       "        <td>0.27865612648221344</td>\n",
       "    </tr>\n",
       "    <tr>\n",
       "        <td>Angel Briggs</td>\n",
       "        <td>443</td>\n",
       "        <td>0.26410835214446954</td>\n",
       "    </tr>\n",
       "</table>"
      ],
      "text/plain": [
       "[('Todd Morrow', 490, 0.3346938775510204),\n",
       " ('Gloria Singh', 530, 0.3264150943396226),\n",
       " ('Dana Hardy', 416, 0.31490384615384615),\n",
       " ('Jocelyn Parker', 474, 0.310126582278481),\n",
       " ('Agent X', 496, 0.3064516129032258),\n",
       " ('Lisa Cordova', 485, 0.29690721649484536),\n",
       " ('Randy Moore', 466, 0.2939914163090129),\n",
       " ('Christopher Moreno', 494, 0.2935222672064777),\n",
       " ('Michele Williams', 524, 0.2881679389312977),\n",
       " ('Paul Nunez', 506, 0.27865612648221344),\n",
       " ('Angel Briggs', 443, 0.26410835214446954)]"
      ]
     },
     "execution_count": 8,
     "metadata": {},
     "output_type": "execute_result"
    }
   ],
   "source": [
    "%%sql \n",
    "SELECT\n",
    "    agent.Name, \n",
    "    COUNT(*) AS TotalCalls, \n",
    "    AVG(call.ProductSold) AS SuccessPercent \n",
    "FROM\n",
    "    call\n",
    "JOIN agent ON call.AgentID = agent.AgentID\n",
    "JOIN customer ON call.customerID = customer.CustomerID\n",
    "WHERE call.PickedUp AND customer.Age >= 18\n",
    "GROUP BY agent.AgentID\n",
    "ORDER BY SuccessPercent DESC"
   ]
  },
  {
   "cell_type": "markdown",
   "metadata": {
    "tags": [
     "8_min"
    ]
   },
   "source": [
    "### Exercise 3\n",
    "\n",
    "Write a query to find the average, minimum, and maximum call duration for *each* of our agents. Include a conditional to ensure that only calls with durations greater than 0 are used."
   ]
  },
  {
   "cell_type": "markdown",
   "metadata": {
    "tags": [
     "ans_st"
    ]
   },
   "source": [
    "**Answer.**"
   ]
  },
  {
   "cell_type": "code",
   "execution_count": 9,
   "metadata": {},
   "outputs": [
    {
     "name": "stdout",
     "output_type": "stream",
     "text": [
      " * sqlite:///call_center_database2.db\n",
      "Done.\n"
     ]
    },
    {
     "data": {
      "text/html": [
       "<table>\n",
       "    <tr>\n",
       "        <th>AgentName</th>\n",
       "        <th>AvgDuration</th>\n",
       "        <th>MinDuration</th>\n",
       "        <th>MaxDuration</th>\n",
       "    </tr>\n",
       "    <tr>\n",
       "        <td>Dana Hardy</td>\n",
       "        <td>177.20397111913357</td>\n",
       "        <td>49</td>\n",
       "        <td>356</td>\n",
       "    </tr>\n",
       "    <tr>\n",
       "        <td>Michele Williams</td>\n",
       "        <td>177.88029197080292</td>\n",
       "        <td>22</td>\n",
       "        <td>306</td>\n",
       "    </tr>\n",
       "    <tr>\n",
       "        <td>Christopher Moreno</td>\n",
       "        <td>177.979969183359</td>\n",
       "        <td>47</td>\n",
       "        <td>363</td>\n",
       "    </tr>\n",
       "    <tr>\n",
       "        <td>Randy Moore</td>\n",
       "        <td>178.595</td>\n",
       "        <td>16</td>\n",
       "        <td>326</td>\n",
       "    </tr>\n",
       "    <tr>\n",
       "        <td>Lisa Cordova</td>\n",
       "        <td>179.21439749608763</td>\n",
       "        <td>46</td>\n",
       "        <td>344</td>\n",
       "    </tr>\n",
       "    <tr>\n",
       "        <td>Jocelyn Parker</td>\n",
       "        <td>180.32689210950082</td>\n",
       "        <td>40</td>\n",
       "        <td>336</td>\n",
       "    </tr>\n",
       "    <tr>\n",
       "        <td>Agent X</td>\n",
       "        <td>180.975</td>\n",
       "        <td>22</td>\n",
       "        <td>334</td>\n",
       "    </tr>\n",
       "    <tr>\n",
       "        <td>Todd Morrow</td>\n",
       "        <td>181.0031746031746</td>\n",
       "        <td>29</td>\n",
       "        <td>339</td>\n",
       "    </tr>\n",
       "    <tr>\n",
       "        <td>Angel Briggs</td>\n",
       "        <td>181.08121827411168</td>\n",
       "        <td>12</td>\n",
       "        <td>362</td>\n",
       "    </tr>\n",
       "    <tr>\n",
       "        <td>Paul Nunez</td>\n",
       "        <td>181.35857805255023</td>\n",
       "        <td>38</td>\n",
       "        <td>323</td>\n",
       "    </tr>\n",
       "    <tr>\n",
       "        <td>Gloria Singh</td>\n",
       "        <td>182.17522658610272</td>\n",
       "        <td>36</td>\n",
       "        <td>349</td>\n",
       "    </tr>\n",
       "</table>"
      ],
      "text/plain": [
       "[('Dana Hardy', 177.20397111913357, 49, 356),\n",
       " ('Michele Williams', 177.88029197080292, 22, 306),\n",
       " ('Christopher Moreno', 177.979969183359, 47, 363),\n",
       " ('Randy Moore', 178.595, 16, 326),\n",
       " ('Lisa Cordova', 179.21439749608763, 46, 344),\n",
       " ('Jocelyn Parker', 180.32689210950082, 40, 336),\n",
       " ('Agent X', 180.975, 22, 334),\n",
       " ('Todd Morrow', 181.0031746031746, 29, 339),\n",
       " ('Angel Briggs', 181.08121827411168, 12, 362),\n",
       " ('Paul Nunez', 181.35857805255023, 38, 323),\n",
       " ('Gloria Singh', 182.17522658610272, 36, 349)]"
      ]
     },
     "execution_count": 9,
     "metadata": {},
     "output_type": "execute_result"
    }
   ],
   "source": [
    "%%sql\n",
    "SELECT\n",
    "    agent.name           AS AgentName,\n",
    "    AVG(call.Duration)   AS AvgDuration,\n",
    "    MIN(call.Duration)   AS MinDuration,\n",
    "    MAX(call.Duration)   AS MaxDuration\n",
    "FROM\n",
    "    call\n",
    "JOIN\n",
    "    agent\n",
    "ON agent.AgentID = call.AgentID\n",
    "WHERE call.Duration > 0\n",
    "GROUP BY agent.name\n",
    "ORDER BY AvgDuration"
   ]
  },
  {
   "cell_type": "markdown",
   "metadata": {
    "tags": [
     "10_min"
    ]
   },
   "source": [
    "## The `IN` keyword\n",
    "\n",
    "Another useful tool for creating conditional statements (and a quick shorthand for the `OR` keyword) is the keyword **`IN`**. [IN](https://mode.com/sql-tutorial/sql-in-operator/) is used in the following way:\n",
    "\n",
    "~~~sql\n",
    "SELECT * FROM customer\n",
    "WHERE age IN (18,20,25,30,35)\n",
    "~~~\n",
    "\n",
    "This would select any records where the age was 18 ,20 ,25 ,30 *or* 35.\n",
    "\n",
    "`IN` can also use a `SELECT` statement as a parameter. For instance,\n",
    "\n",
    "~~~sql\n",
    "SELECT * FROM call\n",
    "WHERE CustomerID IN (SELECT CustomerID FROM customer)\n",
    "~~~\n",
    "\n",
    "This would first select all of the values in the `CustomerID` column from the `customer` table and then uses that as a parameter to select all of the rows from the `call` table where one of those `CustomerID` values is present. This is especially useful if you have a column with values from multiple tables and would like your query to only select for ones that come from a single table.\n",
    "\n",
    "In the case of our `call` table, it should only have `AgentID` values that match values from the `agent` table, but we can use the `IN` keyword to make sure. We ran a query at the start that showed we have 9,940 calls in our `call` table. Let's now write a query using `IN` to make sure all of the values in the `AgentID` column of the `call` table has a match in the `agent` table:"
   ]
  },
  {
   "cell_type": "code",
   "execution_count": 10,
   "metadata": {},
   "outputs": [
    {
     "name": "stdout",
     "output_type": "stream",
     "text": [
      " * sqlite:///call_center_database2.db\n",
      "Done.\n"
     ]
    },
    {
     "data": {
      "text/html": [
       "<table>\n",
       "    <tr>\n",
       "        <th>COUNT(*)</th>\n",
       "    </tr>\n",
       "    <tr>\n",
       "        <td>9939</td>\n",
       "    </tr>\n",
       "</table>"
      ],
      "text/plain": [
       "[(9939,)]"
      ]
     },
     "execution_count": 10,
     "metadata": {},
     "output_type": "execute_result"
    }
   ],
   "source": [
    "%%sql\n",
    "\n",
    "SELECT COUNT(*) FROM call\n",
    "WHERE AgentID IN (SELECT AgentID FROM agent)"
   ]
  },
  {
   "cell_type": "markdown",
   "metadata": {},
   "source": [
    "Notice this appears to be 1 short of the number we are looking for. Let's run a clean query of the table without any conditionals to confirm:"
   ]
  },
  {
   "cell_type": "code",
   "execution_count": 13,
   "metadata": {},
   "outputs": [
    {
     "name": "stdout",
     "output_type": "stream",
     "text": [
      " * sqlite:///call_center_database2.db\n",
      "Done.\n"
     ]
    },
    {
     "data": {
      "text/html": [
       "<table>\n",
       "    <tr>\n",
       "        <th>AgentID</th>\n",
       "    </tr>\n",
       "    <tr>\n",
       "        <td>0</td>\n",
       "    </tr>\n",
       "    <tr>\n",
       "        <td>1</td>\n",
       "    </tr>\n",
       "    <tr>\n",
       "        <td>2</td>\n",
       "    </tr>\n",
       "    <tr>\n",
       "        <td>3</td>\n",
       "    </tr>\n",
       "    <tr>\n",
       "        <td>4</td>\n",
       "    </tr>\n",
       "    <tr>\n",
       "        <td>5</td>\n",
       "    </tr>\n",
       "    <tr>\n",
       "        <td>6</td>\n",
       "    </tr>\n",
       "    <tr>\n",
       "        <td>7</td>\n",
       "    </tr>\n",
       "    <tr>\n",
       "        <td>8</td>\n",
       "    </tr>\n",
       "    <tr>\n",
       "        <td>9</td>\n",
       "    </tr>\n",
       "    <tr>\n",
       "        <td>10</td>\n",
       "    </tr>\n",
       "</table>"
      ],
      "text/plain": [
       "[('0',),\n",
       " ('1',),\n",
       " ('2',),\n",
       " ('3',),\n",
       " ('4',),\n",
       " ('5',),\n",
       " ('6',),\n",
       " ('7',),\n",
       " ('8',),\n",
       " ('9',),\n",
       " ('10',)]"
      ]
     },
     "execution_count": 13,
     "metadata": {},
     "output_type": "execute_result"
    }
   ],
   "source": [
    "%%sql\n",
    "SELECT DISTINCT AgentID from agent"
   ]
  },
  {
   "cell_type": "code",
   "execution_count": 11,
   "metadata": {},
   "outputs": [
    {
     "name": "stdout",
     "output_type": "stream",
     "text": [
      " * sqlite:///call_center_database2.db\n",
      "Done.\n"
     ]
    },
    {
     "data": {
      "text/html": [
       "<table>\n",
       "    <tr>\n",
       "        <th>COUNT(*)</th>\n",
       "    </tr>\n",
       "    <tr>\n",
       "        <td>9940</td>\n",
       "    </tr>\n",
       "</table>"
      ],
      "text/plain": [
       "[(9940,)]"
      ]
     },
     "execution_count": 11,
     "metadata": {},
     "output_type": "execute_result"
    }
   ],
   "source": [
    "%%sql\n",
    "\n",
    "SELECT COUNT(*) FROM call"
   ]
  },
  {
   "cell_type": "markdown",
   "metadata": {},
   "source": [
    "This confirms there may be an issue with our database. A single row in the `call` table appears to not have a valid `AgentID`. If we sort the `AgentID` column by ascending values, we can see that our first row has a \"-1\" in the `AgentID` column. There is no corresponding \"-1\" on the `agent` table so this may be a mistake. \n",
    "\n",
    "In a real-life context, we would probably investigate further as to why this row exists and whether it needs to be deleted or modified. We would also want to re-assess the relational integrity amongst our tables. For now though, we can see the usefulness of the `IN` function for performing more advanced conditional statements."
   ]
  },
  {
   "cell_type": "markdown",
   "metadata": {
    "tags": [
     "15_min"
    ]
   },
   "source": [
    "### Exercise 4\n",
    "\n",
    "Based on our filtered `SuccessPercent` metric from exercise 2, we currently have a list of our top 5 employees in terms of sales:\n",
    "\n",
    "\n",
    "| Agent         | AgentID   |\n",
    "| -----------   | ----------|\n",
    "| Todd Morrow   |     3     |\n",
    "| Gloria Singh  |     6     |\n",
    "| Dana Hardy    |     9     |\n",
    "| Jocelyn Parker|     1     |\n",
    "| Agent X       |     10    | \n",
    "\n",
    "Use what you've learned so far to write two queries, one for our top five agents and another for the bottom six agents. Each query should show the agent's name, the total number of calls they made, and their product sales conversion percentage. Filter each query to only include calls with customers who are 35 or older, and whose job contains the word \"Engineer\"."
   ]
  },
  {
   "cell_type": "markdown",
   "metadata": {
    "tags": [
     "ans_st"
    ]
   },
   "source": [
    "**Answer.**"
   ]
  },
  {
   "cell_type": "code",
   "execution_count": 24,
   "metadata": {},
   "outputs": [
    {
     "name": "stdout",
     "output_type": "stream",
     "text": [
      " * sqlite:///call_center_database2.db\n",
      "Done.\n"
     ]
    },
    {
     "data": {
      "text/html": [
       "<table>\n",
       "    <tr>\n",
       "        <th>Name</th>\n",
       "        <th>TotalCalls</th>\n",
       "        <th>SuccessPercent</th>\n",
       "    </tr>\n",
       "    <tr>\n",
       "        <td>Christopher Moreno</td>\n",
       "        <td>20</td>\n",
       "        <td>0.35</td>\n",
       "    </tr>\n",
       "    <tr>\n",
       "        <td>Michele Williams</td>\n",
       "        <td>20</td>\n",
       "        <td>0.3</td>\n",
       "    </tr>\n",
       "    <tr>\n",
       "        <td>Gloria Singh</td>\n",
       "        <td>28</td>\n",
       "        <td>0.2857142857142857</td>\n",
       "    </tr>\n",
       "    <tr>\n",
       "        <td>Agent X</td>\n",
       "        <td>32</td>\n",
       "        <td>0.25</td>\n",
       "    </tr>\n",
       "    <tr>\n",
       "        <td>Dana Hardy</td>\n",
       "        <td>22</td>\n",
       "        <td>0.22727272727272727</td>\n",
       "    </tr>\n",
       "</table>"
      ],
      "text/plain": [
       "[('Christopher Moreno', 20, 0.35),\n",
       " ('Michele Williams', 20, 0.3),\n",
       " ('Gloria Singh', 28, 0.2857142857142857),\n",
       " ('Agent X', 32, 0.25),\n",
       " ('Dana Hardy', 22, 0.22727272727272727)]"
      ]
     },
     "execution_count": 24,
     "metadata": {},
     "output_type": "execute_result"
    }
   ],
   "source": [
    "%%sql \n",
    "SELECT\n",
    "    agent.Name, \n",
    "    COUNT(*) AS TotalCalls, \n",
    "    AVG(call.ProductSold) AS SuccessPercent \n",
    "FROM\n",
    "    call\n",
    "JOIN agent ON call.AgentID = agent.AgentID\n",
    "JOIN customer ON call.customerID = customer.CustomerID\n",
    "WHERE customer.Age >= 35 AND (customer.Occupation LIKE '%Engineer')\n",
    "GROUP BY agent.Name\n",
    "ORDER BY SuccessPercent DESC LIMIT 5"
   ]
  },
  {
   "cell_type": "code",
   "execution_count": 25,
   "metadata": {},
   "outputs": [
    {
     "name": "stdout",
     "output_type": "stream",
     "text": [
      " * sqlite:///call_center_database2.db\n",
      "Done.\n"
     ]
    },
    {
     "data": {
      "text/html": [
       "<table>\n",
       "    <tr>\n",
       "        <th>Name</th>\n",
       "        <th>TotalCalls</th>\n",
       "        <th>SuccessPercent</th>\n",
       "    </tr>\n",
       "    <tr>\n",
       "        <td>Todd Morrow</td>\n",
       "        <td>28</td>\n",
       "        <td>0.14285714285714285</td>\n",
       "    </tr>\n",
       "    <tr>\n",
       "        <td>Angel Briggs</td>\n",
       "        <td>20</td>\n",
       "        <td>0.15</td>\n",
       "    </tr>\n",
       "    <tr>\n",
       "        <td>Randy Moore</td>\n",
       "        <td>32</td>\n",
       "        <td>0.15625</td>\n",
       "    </tr>\n",
       "    <tr>\n",
       "        <td>Lisa Cordova</td>\n",
       "        <td>23</td>\n",
       "        <td>0.17391304347826086</td>\n",
       "    </tr>\n",
       "    <tr>\n",
       "        <td>Jocelyn Parker</td>\n",
       "        <td>25</td>\n",
       "        <td>0.2</td>\n",
       "    </tr>\n",
       "</table>"
      ],
      "text/plain": [
       "[('Todd Morrow', 28, 0.14285714285714285),\n",
       " ('Angel Briggs', 20, 0.15),\n",
       " ('Randy Moore', 32, 0.15625),\n",
       " ('Lisa Cordova', 23, 0.17391304347826086),\n",
       " ('Jocelyn Parker', 25, 0.2)]"
      ]
     },
     "execution_count": 25,
     "metadata": {},
     "output_type": "execute_result"
    }
   ],
   "source": [
    "%%sql \n",
    "SELECT\n",
    "    agent.Name, \n",
    "    COUNT(*) AS TotalCalls, \n",
    "    AVG(call.ProductSold) AS SuccessPercent \n",
    "FROM\n",
    "    call\n",
    "JOIN agent ON call.AgentID = agent.AgentID\n",
    "JOIN customer ON call.customerID = customer.CustomerID\n",
    "WHERE customer.Age >= 35 AND (customer.Occupation LIKE '%Engineer')\n",
    "GROUP BY agent.Name\n",
    "ORDER BY SuccessPercent ASC LIMIT 5"
   ]
  },
  {
   "cell_type": "markdown",
   "metadata": {
    "tags": [
     "5_min"
    ]
   },
   "source": [
    "## Aliasing and the implicit `JOIN`\n",
    "\n",
    "We've learned before how to assign a new name to a column in a query using the `AS` keyword. This operation is known as an **alias** and is useful for more than just tidying up the result of your queries (read more about aliases [here](https://www.w3schools.com/sql/sql_alias.asp)). One functional use of an alias is in what's called an *implicit* `JOIN`, which is a join statement that doesn't use the `JOIN` keyword at all. Instead it uses aliases to identify which table to query the requested information from. The syntax for an implicit `JOIN` is as follows:\n",
    "\n",
    "~~~sql\n",
    "SELECT a.column_from_table_a, b.column_from_table_b\n",
    "FROM table_a AS a, table_b AS b\n",
    "WHERE a.shared_column = b.shared_column\n",
    "~~~\n",
    "\n",
    "As you can see, we defined the alias for each of our tables in the `FROM` statement, and then referenced the alias in our requested columns by using a `.` in the `SELECT` statement, referred to as **dot notation.** We still use our `WHERE` statement to say on what column our tables are to be joined.\n",
    "\n",
    "By putting both our requested tables in the `FROM` statement and then using our aliases, SQL can infer that we intend to `JOIN` these tables without needing to use the specific keyword."
   ]
  },
  {
   "cell_type": "markdown",
   "metadata": {
    "tags": [
     "5_min"
    ]
   },
   "source": [
    "### Example 1\n",
    "\n",
    "Use an implicit `JOIN` to find the average duration of calls for *each* `agent` in the `call` table."
   ]
  },
  {
   "cell_type": "markdown",
   "metadata": {},
   "source": [
    "**Answer.** Shown below:"
   ]
  },
  {
   "cell_type": "code",
   "execution_count": 27,
   "metadata": {},
   "outputs": [
    {
     "name": "stdout",
     "output_type": "stream",
     "text": [
      " * sqlite:///call_center_database2.db\n",
      "Done.\n"
     ]
    },
    {
     "data": {
      "text/html": [
       "<table>\n",
       "    <tr>\n",
       "        <th>Name</th>\n",
       "        <th>CallDuration</th>\n",
       "    </tr>\n",
       "    <tr>\n",
       "        <td>Agent X</td>\n",
       "        <td>125.75895765472313</td>\n",
       "    </tr>\n",
       "    <tr>\n",
       "        <td>Angel Briggs</td>\n",
       "        <td>121.4744608399546</td>\n",
       "    </tr>\n",
       "    <tr>\n",
       "        <td>Christopher Moreno</td>\n",
       "        <td>126.93296703296703</td>\n",
       "    </tr>\n",
       "    <tr>\n",
       "        <td>Dana Hardy</td>\n",
       "        <td>115.90436835891381</td>\n",
       "    </tr>\n",
       "    <tr>\n",
       "        <td>Gloria Singh</td>\n",
       "        <td>130.2375809935205</td>\n",
       "    </tr>\n",
       "    <tr>\n",
       "        <td>Jocelyn Parker</td>\n",
       "        <td>132.68127962085308</td>\n",
       "    </tr>\n",
       "    <tr>\n",
       "        <td>Lisa Cordova</td>\n",
       "        <td>124.61153427638737</td>\n",
       "    </tr>\n",
       "    <tr>\n",
       "        <td>Michele Williams</td>\n",
       "        <td>124.84426229508196</td>\n",
       "    </tr>\n",
       "    <tr>\n",
       "        <td>Paul Nunez</td>\n",
       "        <td>127.53695652173913</td>\n",
       "    </tr>\n",
       "    <tr>\n",
       "        <td>Randy Moore</td>\n",
       "        <td>121.35560588901473</td>\n",
       "    </tr>\n",
       "    <tr>\n",
       "        <td>Todd Morrow</td>\n",
       "        <td>125.03179824561404</td>\n",
       "    </tr>\n",
       "</table>"
      ],
      "text/plain": [
       "[('Agent X', 125.75895765472313),\n",
       " ('Angel Briggs', 121.4744608399546),\n",
       " ('Christopher Moreno', 126.93296703296703),\n",
       " ('Dana Hardy', 115.90436835891381),\n",
       " ('Gloria Singh', 130.2375809935205),\n",
       " ('Jocelyn Parker', 132.68127962085308),\n",
       " ('Lisa Cordova', 124.61153427638737),\n",
       " ('Michele Williams', 124.84426229508196),\n",
       " ('Paul Nunez', 127.53695652173913),\n",
       " ('Randy Moore', 121.35560588901473),\n",
       " ('Todd Morrow', 125.03179824561404)]"
      ]
     },
     "execution_count": 27,
     "metadata": {},
     "output_type": "execute_result"
    }
   ],
   "source": [
    "%%sql\n",
    "\n",
    "SELECT a.name, AVG(b.Duration) as CallDuration\n",
    "FROM agent a, call b\n",
    "WHERE a.AgentID = b.AgentID\n",
    "GROUP BY a.name"
   ]
  },
  {
   "cell_type": "markdown",
   "metadata": {},
   "source": [
    "Note in this case we don't even need to use the `AS` keyword to create an alias. Using `AS` can make your code clearer for others to read, but is optional and the code will function the same either way."
   ]
  },
  {
   "cell_type": "markdown",
   "metadata": {
    "tags": [
     "10_min"
    ]
   },
   "source": [
    "## Subqueries\n",
    "\n",
    "In our discussion of the `IN` keyword, we saw how we could use a set of values *or* another query within a conditional statement. Using another query within a query is formally known as a **subquery**. A [subquery](https://www.w3resource.com/sql/subqueries/understanding-sql-subqueries.php) isn't just a useful time-saver; it also helps maintain the integrity of your queries by making your queries *relational* to other values in your tables.\n",
    "\n",
    "A subquery can be a part of your `SELECT` or `FROM` statements, or as a conditional in a `WHERE` statement. It must be enclosed in parentheses and can include most of the operators of a normal query, the most notable exception being `ORDER BY`. Below is an example of a subquery for our current dataset:\n",
    "\n",
    "~~~sql\n",
    "\n",
    "SELECT name, CustomerID, age FROM customer\n",
    "WHERE age >= (SELECT AVG(age) FROM customer)\n",
    "\n",
    "~~~\n",
    "\n",
    "A subquery first executes the inner query:"
   ]
  },
  {
   "cell_type": "code",
   "execution_count": 28,
   "metadata": {},
   "outputs": [
    {
     "name": "stdout",
     "output_type": "stream",
     "text": [
      " * sqlite:///call_center_database2.db\n",
      "Done.\n"
     ]
    },
    {
     "data": {
      "text/html": [
       "<table>\n",
       "    <tr>\n",
       "        <th>AVG(age)</th>\n",
       "    </tr>\n",
       "    <tr>\n",
       "        <td>24.435</td>\n",
       "    </tr>\n",
       "</table>"
      ],
      "text/plain": [
       "[(24.435,)]"
      ]
     },
     "execution_count": 28,
     "metadata": {},
     "output_type": "execute_result"
    }
   ],
   "source": [
    "%%sql\n",
    "\n",
    "SELECT AVG(age) FROM customer"
   ]
  },
  {
   "cell_type": "markdown",
   "metadata": {},
   "source": [
    "It then uses this value to perform the outer query. We can plug in the number that results from the inner query into our outer query to see our result without explicitly using a subquery:"
   ]
  },
  {
   "cell_type": "code",
   "execution_count": 29,
   "metadata": {},
   "outputs": [
    {
     "name": "stdout",
     "output_type": "stream",
     "text": [
      " * sqlite:///call_center_database2.db\n",
      "Done.\n"
     ]
    },
    {
     "data": {
      "text/html": [
       "<table>\n",
       "    <tr>\n",
       "        <th>Name</th>\n",
       "        <th>CustomerID</th>\n",
       "        <th>Age</th>\n",
       "    </tr>\n",
       "    <tr>\n",
       "        <td>Robert Thomas</td>\n",
       "        <td>3</td>\n",
       "        <td>25</td>\n",
       "    </tr>\n",
       "    <tr>\n",
       "        <td>Eddie Hall</td>\n",
       "        <td>4</td>\n",
       "        <td>30</td>\n",
       "    </tr>\n",
       "    <tr>\n",
       "        <td>Michael Vaughn</td>\n",
       "        <td>7</td>\n",
       "        <td>30</td>\n",
       "    </tr>\n",
       "    <tr>\n",
       "        <td>Emily Anderson DDS</td>\n",
       "        <td>8</td>\n",
       "        <td>28</td>\n",
       "    </tr>\n",
       "    <tr>\n",
       "        <td>Brandon Alexander</td>\n",
       "        <td>11</td>\n",
       "        <td>29</td>\n",
       "    </tr>\n",
       "    <tr>\n",
       "        <td>Michelle Reyes</td>\n",
       "        <td>14</td>\n",
       "        <td>31</td>\n",
       "    </tr>\n",
       "    <tr>\n",
       "        <td>Lauren Hill</td>\n",
       "        <td>16</td>\n",
       "        <td>27</td>\n",
       "    </tr>\n",
       "    <tr>\n",
       "        <td>Kelsey Perkins</td>\n",
       "        <td>17</td>\n",
       "        <td>25</td>\n",
       "    </tr>\n",
       "    <tr>\n",
       "        <td>Sean Martinez</td>\n",
       "        <td>22</td>\n",
       "        <td>27</td>\n",
       "    </tr>\n",
       "    <tr>\n",
       "        <td>Samantha Travis</td>\n",
       "        <td>24</td>\n",
       "        <td>28</td>\n",
       "    </tr>\n",
       "    <tr>\n",
       "        <td>Gary Avila</td>\n",
       "        <td>26</td>\n",
       "        <td>25</td>\n",
       "    </tr>\n",
       "    <tr>\n",
       "        <td>Sean Trevino</td>\n",
       "        <td>27</td>\n",
       "        <td>32</td>\n",
       "    </tr>\n",
       "    <tr>\n",
       "        <td>Michael Smith</td>\n",
       "        <td>28</td>\n",
       "        <td>38</td>\n",
       "    </tr>\n",
       "    <tr>\n",
       "        <td>Arthur Gray</td>\n",
       "        <td>29</td>\n",
       "        <td>32</td>\n",
       "    </tr>\n",
       "    <tr>\n",
       "        <td>Ruben Rangel III</td>\n",
       "        <td>30</td>\n",
       "        <td>37</td>\n",
       "    </tr>\n",
       "</table>"
      ],
      "text/plain": [
       "[('Robert Thomas', '3', 25),\n",
       " ('Eddie Hall', '4', 30),\n",
       " ('Michael Vaughn', '7', 30),\n",
       " ('Emily Anderson DDS', '8', 28),\n",
       " ('Brandon Alexander', '11', 29),\n",
       " ('Michelle Reyes', '14', 31),\n",
       " ('Lauren Hill', '16', 27),\n",
       " ('Kelsey Perkins', '17', 25),\n",
       " ('Sean Martinez', '22', 27),\n",
       " ('Samantha Travis', '24', 28),\n",
       " ('Gary Avila', '26', 25),\n",
       " ('Sean Trevino', '27', 32),\n",
       " ('Michael Smith', '28', 38),\n",
       " ('Arthur Gray', '29', 32),\n",
       " ('Ruben Rangel III', '30', 37)]"
      ]
     },
     "execution_count": 29,
     "metadata": {},
     "output_type": "execute_result"
    }
   ],
   "source": [
    "%%sql\n",
    "\n",
    "SELECT name, CustomerID, age FROM customer\n",
    "WHERE age >= 24.435\n",
    "LIMIT 15"
   ]
  },
  {
   "cell_type": "markdown",
   "metadata": {},
   "source": [
    "It turns out that at this moment in time, this will give the same result. However, using a constant in place of a dynamic subquery creates significant problems down the line. For example, if even a single value in the `age` column of our `customer` table changes, that constant will no longer be valid and our outer query will return an incorrect result. By using a subquery, we ensure that the entire query remains *relational* to our dataset and maintains integrity even when changes are made to the database."
   ]
  },
  {
   "cell_type": "markdown",
   "metadata": {
    "tags": [
     "10_min"
    ]
   },
   "source": [
    "### Exercise 5\n",
    "\n",
    "Use a subquery to get the name, call ID, and duration for every call where the duration is greater than the average call duration. Make sure to *exclude* calls with a `Duration` of 0 from the average calculation. Limit the results to the first 15 calls."
   ]
  },
  {
   "cell_type": "markdown",
   "metadata": {
    "tags": [
     "ans_st"
    ]
   },
   "source": [
    "**Answer.**"
   ]
  },
  {
   "cell_type": "code",
   "execution_count": 33,
   "metadata": {},
   "outputs": [
    {
     "name": "stdout",
     "output_type": "stream",
     "text": [
      " * sqlite:///call_center_database2.db\n",
      "Done.\n"
     ]
    },
    {
     "data": {
      "text/html": [
       "<table>\n",
       "    <tr>\n",
       "        <th>Name</th>\n",
       "        <th>CallID</th>\n",
       "        <th>Duration</th>\n",
       "    </tr>\n",
       "    <tr>\n",
       "        <td>Lisa Cordova</td>\n",
       "        <td>19</td>\n",
       "        <td>180</td>\n",
       "    </tr>\n",
       "    <tr>\n",
       "        <td>Paul Nunez</td>\n",
       "        <td>37</td>\n",
       "        <td>180</td>\n",
       "    </tr>\n",
       "    <tr>\n",
       "        <td>Lisa Cordova</td>\n",
       "        <td>230</td>\n",
       "        <td>180</td>\n",
       "    </tr>\n",
       "    <tr>\n",
       "        <td>Lisa Cordova</td>\n",
       "        <td>307</td>\n",
       "        <td>180</td>\n",
       "    </tr>\n",
       "    <tr>\n",
       "        <td>Angel Briggs</td>\n",
       "        <td>772</td>\n",
       "        <td>180</td>\n",
       "    </tr>\n",
       "    <tr>\n",
       "        <td>Agent X</td>\n",
       "        <td>813</td>\n",
       "        <td>180</td>\n",
       "    </tr>\n",
       "    <tr>\n",
       "        <td>Jocelyn Parker</td>\n",
       "        <td>966</td>\n",
       "        <td>180</td>\n",
       "    </tr>\n",
       "    <tr>\n",
       "        <td>Gloria Singh</td>\n",
       "        <td>1182</td>\n",
       "        <td>180</td>\n",
       "    </tr>\n",
       "    <tr>\n",
       "        <td>Angel Briggs</td>\n",
       "        <td>1217</td>\n",
       "        <td>180</td>\n",
       "    </tr>\n",
       "    <tr>\n",
       "        <td>Randy Moore</td>\n",
       "        <td>1267</td>\n",
       "        <td>180</td>\n",
       "    </tr>\n",
       "    <tr>\n",
       "        <td>Gloria Singh</td>\n",
       "        <td>1268</td>\n",
       "        <td>180</td>\n",
       "    </tr>\n",
       "    <tr>\n",
       "        <td>Christopher Moreno</td>\n",
       "        <td>1462</td>\n",
       "        <td>180</td>\n",
       "    </tr>\n",
       "    <tr>\n",
       "        <td>Michele Williams</td>\n",
       "        <td>1463</td>\n",
       "        <td>180</td>\n",
       "    </tr>\n",
       "    <tr>\n",
       "        <td>Randy Moore</td>\n",
       "        <td>1890</td>\n",
       "        <td>180</td>\n",
       "    </tr>\n",
       "    <tr>\n",
       "        <td>Paul Nunez</td>\n",
       "        <td>1991</td>\n",
       "        <td>180</td>\n",
       "    </tr>\n",
       "</table>"
      ],
      "text/plain": [
       "[('Lisa Cordova', '19', 180),\n",
       " ('Paul Nunez', '37', 180),\n",
       " ('Lisa Cordova', '230', 180),\n",
       " ('Lisa Cordova', '307', 180),\n",
       " ('Angel Briggs', '772', 180),\n",
       " ('Agent X', '813', 180),\n",
       " ('Jocelyn Parker', '966', 180),\n",
       " ('Gloria Singh', '1182', 180),\n",
       " ('Angel Briggs', '1217', 180),\n",
       " ('Randy Moore', '1267', 180),\n",
       " ('Gloria Singh', '1268', 180),\n",
       " ('Christopher Moreno', '1462', 180),\n",
       " ('Michele Williams', '1463', 180),\n",
       " ('Randy Moore', '1890', 180),\n",
       " ('Paul Nunez', '1991', 180)]"
      ]
     },
     "execution_count": 33,
     "metadata": {},
     "output_type": "execute_result"
    }
   ],
   "source": [
    "%%sql\n",
    "\n",
    "\n",
    "SELECT a.name, c.CallID, c.Duration\n",
    "FROM agent a, call c\n",
    "WHERE a.AgentID = c.AgentID \n",
    "AND Duration > (SELECT AVG(Duration) FROM call WHERE Duration > 0) \n",
    "ORDER BY c.Duration LIMIT 15"
   ]
  },
  {
   "cell_type": "markdown",
   "metadata": {
    "tags": [
     "2_min"
    ]
   },
   "source": [
    "## Conclusions & Takeaways\n",
    "\n",
    "In this case, you used aggregate functions to evaluate employee performance and learned how to perform more advanced queries using multiple joins and complex conditional logic. You developed a better understanding of the structure of a database and how the data amongst multiple tables connects and interacts. You also learned how to use aliases, implicit `JOIN`s, and subqueries."
   ]
  },
  {
   "cell_type": "markdown",
   "metadata": {},
   "source": [
    "## Appendix\n",
    "\n",
    "**Aggregate Functions**\n",
    "\n",
    "- `COUNT()` - counts rows in a specified column or table \n",
    "- `SUM()` - calculates the sum of values \n",
    "- `AVG()` - calculates the average of a set of values \n",
    "- `MIN()` - gets the minimum value in a set of values \n",
    "- `MAX()` - gets the maximum value in a set of values\n",
    "\n",
    "**New Functions**\n",
    "\n",
    "- `GROUP BY` - Combines rows with identical values, often used in combination with aggregate functions\n",
    "\n",
    "~~~sql\n",
    "SELECT SUM(value) FROM table\n",
    "GROUP BY value\n",
    "\n",
    "~~~\n",
    "\n",
    "- `WHERE ... IN` - Used as shorthand for multiple `OR` conditionals\n",
    "\n",
    "~~~sql\n",
    "WHERE column_name IN (value1, value2, ...)\n",
    "WHERE column_name IN (SELECT query)\n",
    "\n",
    "~~~\n",
    "\n",
    "- Alias - Created using the optional `AS` keyword, used in subqueries and implicit joins\n",
    "\n",
    "~~~sql\n",
    "\n",
    "SELECT a.column_from_table_a, b.column_from_table_b\n",
    "FROM table_a AS a, table_b AS b\n",
    "\n",
    "~~~\n",
    "\n",
    "- Implicit `JOIN` - A join using aliases that doesn't require the `JOIN` keyword\n",
    "\n",
    "~~~sql\n",
    "\n",
    "SELECT a.column_from_table_a, b.column_from_table_b\n",
    "FROM table_a AS a, table_b AS b\n",
    "WHERE a.shared_column = b.shared_column\n",
    "\n",
    "~~~\n",
    "\n",
    "- Subquery - A query used within another query to helps maintain relational integrity of more complex queries\n",
    "\n",
    "~~~sql\n",
    "\n",
    "SELECT column FROM table\n",
    "WHERE (Select value FROM table)     \n",
    "\n",
    "~~~\n"
   ]
  }
 ],
 "metadata": {
  "kernelspec": {
   "display_name": "Python 3 (ipykernel)",
   "language": "python",
   "name": "python3"
  },
  "language_info": {
   "codemirror_mode": {
    "name": "ipython",
    "version": 3
   },
   "file_extension": ".py",
   "mimetype": "text/x-python",
   "name": "python",
   "nbconvert_exporter": "python",
   "pygments_lexer": "ipython3",
   "version": "3.11.1"
  }
 },
 "nbformat": 4,
 "nbformat_minor": 4
}
