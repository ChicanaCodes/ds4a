{
 "cells": [
  {
   "cell_type": "markdown",
   "id": "1a836bf8",
   "metadata": {},
   "source": [
    "# Exploratory Data Analysis\n",
    "Exploratory Data Analysis (EDA) is the process of examining and analyzing data sets to summarize their main characteristics and gain insights into their underlying patterns, relationships, and trends. EDA is typically done using various statistical and visual techniques such as histograms, scatterplots, boxplots, and correlation matrices. The main goal of EDA is to discover and understand the key features and relationships of the data, identify any potential outliers or anomalies, and formulate hypotheses about the underlying phenomena.\n",
    "EDA is an essential step in data analysis as it allows analysts to gain a deep understanding of the data before performing any formal statistical modeling or hypothesis testing. By exploring the data visually and quantitatively, analysts can identify potential data quality issues, determine the appropriate methods for data preprocessing and cleaning, and select the most appropriate modeling techniques for the data. EDA can also reveal unexpected patterns or relationships in the data that may lead to new insights or research questions. Therefore, EDA is a critical part of any data analysis process and should be conducted thoroughly and systematically.\n",
    "It is not uncommon for highly skilled data scientists to be given an unlabeled spreadsheet as part of an interview process, where they are tasked with demonstrating their thought and analysis process. However, many data analysis experts struggle when given this task, especially when there are time constraints during an interview."
   ]
  },
  {
   "cell_type": "markdown",
   "id": "4a503dbd",
   "metadata": {},
   "source": [
    "## How do go about analyzing an unlabeled Data Set?"
   ]
  },
  {
   "cell_type": "markdown",
   "id": "4a3c5a15",
   "metadata": {},
   "source": [
    "### Things to look for when exploring a data set:\n",
    "* missing values\n",
    "* Correlations/relationships between variables\n",
    "* distribution of variables\n",
    "* outliers & anomalies, missing values, null values\n",
    "* general idea about the data, find interesting patterns\n",
    "* determine possible model to use\n",
    "* Significant correlations,outliers distribution\n",
    "* a ranked list of important factors\n",
    "* normality, skew\n",
    "* bias\n",
    "\n",
    "### Common steps in EDA:\n",
    "Here are some standard steps in EDA. Note that they are not always performed in the same order, and for our purposes the later steps will not be completed. The data has already been collected, so we can look to data cleaning, then data visualization and data transformation and some rudimentary analysis, time permitting. When given a time limit it is extremely important to map out basic EDA and plan which tools you’ll use. Remember, sharing your reasoning is at least as important as your analysis; being able to do something is good, but being able to verbalize why you made those choices is even better!\n",
    "\n",
    "* Data Collection: This is the initial step of EDA where the data is collected from various sources and compiled into a dataset.\n",
    "* Data Cleaning: In this step, the data is checked for missing values, duplicates, outliers, and other errors. Any issues found are addressed and the data is prepared for analysis.\n",
    "* Data Visualization: Data visualization is a critical part of EDA. In this step, various graphical techniques are used to explore the data and understand the relationships between the variables.\n",
    "* Data Transformation: Sometimes data needs to be transformed or restructured to facilitate analysis. This can include normalizing or scaling the data, transforming variables, or creating new variables.\n",
    "* Data Analysis: In this step, statistical techniques such as regression analysis, clustering, or classification are used to further explore the data and identify patterns, trends, or relationships. Start with descriptive statistics, and then move on to correlations and other simple analyses.\n",
    "* Hypothesis Testing: This step involves testing hypotheses or assumptions about the data to validate or invalidate them.\n",
    "* Summarization: Finally, the results of the EDA are summarized and presented in a way that is easily understood by stakeholders or decision-makers."
   ]
  },
  {
   "cell_type": "markdown",
   "id": "5404423c",
   "metadata": {},
   "source": [
    "#### How we plan to analyze data supplied by group: \n",
    "\n",
    "* Missing Data or Any Outliers? Hoe to tackle\n",
    "* Naming the columns- Products, Store Name, \n",
    "* colnames = ['Date', 'ProductName', 'Category', 'Col1', 'Col2', 'Col3', 'Direction', 'StoreType', 'Col4','Col5','Col6','Col7']\n",
    "* Identify primary key columns\n",
    "* Check Datatype of each column, define numerical & categorical variables\n",
    "* Explain & summarize what it's in each variable\n",
    "* Use data manipulation to make all variables comparable\n",
    "* Find Unique Values for categorical and orthogonal columns\n",
    "* Visualization - Histrogram, Pie Charts, Scatterplot, Bar chart to see the distribution of data example ProductName vs Numeric value or Date\n",
    "* Correlation Matrix: explore how significant the relationship btw variables\n",
    "* Understanding mean, medium, min, max of each column\n",
    "* Data Imputation methodologies for Missing values\n",
    "* Last few columns have very varied values need to normalize or drop the outliers  (these could be categorical rather than numeric?)\n"
   ]
  },
  {
   "cell_type": "code",
   "execution_count": 1,
   "id": "9ab7beb9",
   "metadata": {},
   "outputs": [],
   "source": [
    "%%capture\n",
    "%pip install pandas matplotlib"
   ]
  },
  {
   "cell_type": "code",
   "execution_count": 2,
   "id": "9b37eb90",
   "metadata": {},
   "outputs": [],
   "source": [
    "import pandas as pd\n",
    "import matplotlib.pyplot as plt"
   ]
  },
  {
   "cell_type": "code",
   "execution_count": 5,
   "id": "b6412654",
   "metadata": {},
   "outputs": [],
   "source": [
    "data = pd.read_csv(\"data/EDA_spreadsheets_data.csv\", header = None)"
   ]
  },
  {
   "cell_type": "code",
   "execution_count": 6,
   "id": "9623f5d2",
   "metadata": {},
   "outputs": [
    {
     "data": {
      "text/html": [
       "<div>\n",
       "<style scoped>\n",
       "    .dataframe tbody tr th:only-of-type {\n",
       "        vertical-align: middle;\n",
       "    }\n",
       "\n",
       "    .dataframe tbody tr th {\n",
       "        vertical-align: top;\n",
       "    }\n",
       "\n",
       "    .dataframe thead th {\n",
       "        text-align: right;\n",
       "    }\n",
       "</style>\n",
       "<table border=\"1\" class=\"dataframe\">\n",
       "  <thead>\n",
       "    <tr style=\"text-align: right;\">\n",
       "      <th></th>\n",
       "      <th>0</th>\n",
       "      <th>1</th>\n",
       "      <th>2</th>\n",
       "      <th>3</th>\n",
       "      <th>4</th>\n",
       "      <th>5</th>\n",
       "      <th>6</th>\n",
       "      <th>7</th>\n",
       "      <th>8</th>\n",
       "      <th>9</th>\n",
       "      <th>10</th>\n",
       "      <th>11</th>\n",
       "    </tr>\n",
       "  </thead>\n",
       "  <tbody>\n",
       "    <tr>\n",
       "      <th>0</th>\n",
       "      <td>2022-12-21</td>\n",
       "      <td>ProductH</td>\n",
       "      <td>C</td>\n",
       "      <td>825</td>\n",
       "      <td>581</td>\n",
       "      <td>244</td>\n",
       "      <td>East</td>\n",
       "      <td>Classic+</td>\n",
       "      <td>2</td>\n",
       "      <td>2</td>\n",
       "      <td>2</td>\n",
       "      <td>1</td>\n",
       "    </tr>\n",
       "    <tr>\n",
       "      <th>1</th>\n",
       "      <td>2022-03-01</td>\n",
       "      <td>ProductE</td>\n",
       "      <td>A</td>\n",
       "      <td>745</td>\n",
       "      <td>525</td>\n",
       "      <td>220</td>\n",
       "      <td>South</td>\n",
       "      <td>Superstore</td>\n",
       "      <td>5</td>\n",
       "      <td>2</td>\n",
       "      <td>2</td>\n",
       "      <td>4</td>\n",
       "    </tr>\n",
       "    <tr>\n",
       "      <th>2</th>\n",
       "      <td>2022-09-24</td>\n",
       "      <td>ProductF</td>\n",
       "      <td>A</td>\n",
       "      <td>382</td>\n",
       "      <td>65</td>\n",
       "      <td>317</td>\n",
       "      <td>North</td>\n",
       "      <td>Classic</td>\n",
       "      <td>3</td>\n",
       "      <td>1</td>\n",
       "      <td>2</td>\n",
       "      <td>2</td>\n",
       "    </tr>\n",
       "    <tr>\n",
       "      <th>3</th>\n",
       "      <td>2022-08-23</td>\n",
       "      <td>ProductI</td>\n",
       "      <td>C</td>\n",
       "      <td>883</td>\n",
       "      <td>317</td>\n",
       "      <td>566</td>\n",
       "      <td>West</td>\n",
       "      <td>Superstore</td>\n",
       "      <td>5</td>\n",
       "      <td>1</td>\n",
       "      <td>3</td>\n",
       "      <td>4</td>\n",
       "    </tr>\n",
       "    <tr>\n",
       "      <th>4</th>\n",
       "      <td>2022-03-22</td>\n",
       "      <td>ProductC</td>\n",
       "      <td>E</td>\n",
       "      <td>324</td>\n",
       "      <td>104</td>\n",
       "      <td>220</td>\n",
       "      <td>South</td>\n",
       "      <td>Superstore</td>\n",
       "      <td>2</td>\n",
       "      <td>1</td>\n",
       "      <td>3</td>\n",
       "      <td>3</td>\n",
       "    </tr>\n",
       "  </tbody>\n",
       "</table>\n",
       "</div>"
      ],
      "text/plain": [
       "           0         1  2    3    4    5      6           7   8   9   10  11\n",
       "0  2022-12-21  ProductH  C  825  581  244   East    Classic+   2   2   2   1\n",
       "1  2022-03-01  ProductE  A  745  525  220  South  Superstore   5   2   2   4\n",
       "2  2022-09-24  ProductF  A  382   65  317  North     Classic   3   1   2   2\n",
       "3  2022-08-23  ProductI  C  883  317  566   West  Superstore   5   1   3   4\n",
       "4  2022-03-22  ProductC  E  324  104  220  South  Superstore   2   1   3   3"
      ]
     },
     "execution_count": 6,
     "metadata": {},
     "output_type": "execute_result"
    }
   ],
   "source": [
    "data.head()"
   ]
  },
  {
   "cell_type": "markdown",
   "id": "d992ee6b",
   "metadata": {},
   "source": [
    "#### Common Python Methods\n",
    "Missing Values\n",
    "* `isnull()` or `isna()`: This pandas function checks if there are any missing values in the DataFrame.\n",
    "* `notnull()` or `notna()`: This pandas function checks if there are any non-missing values in the DataFrame.\n",
    "* `dropna()`: This pandas function removes missing values.\n",
    "* `fillna()`: This pandas function fills missing values with a specified value or method (like 'ffill' for forward fill, 'bfill' for backward fill).\n",
    "* `replace()`: This pandas function replaces a specific value to another value, can be used for replacing missing values or known error values.\n",
    "\n",
    "Duplicates\n",
    "* `duplicated()`: This pandas function checks for duplicate rows, based on all or some columns.\n",
    "* `drop_duplicates()`: This pandas function removes duplicate rows, based on all or some columns.\n",
    "\n",
    "Data Transformation\n",
    "* `astype()`: This pandas function is used to change data type of a certain column.\n",
    "* `replace()`: This pandas function replaces a specific value with some other value.\n",
    "* `cut(), qcut()`: These pandas functions are used for binning continuous variables.\n",
    "* `get_dummies()`: This pandas function is used for one-hot encoding.\n",
    "\n",
    "Data Inspection\n",
    "* `head()`, `tail()`, `sample()`: These pandas functions are used to view parts of the data frame for initial inspection.\n",
    "* `info()`, `describe()`: These pandas functions provide summary information of the data.\n",
    "\n",
    "Numpy Functions\n",
    "* `numpy.isnan()`: This function checks if there are NaNs in your data.\n",
    "* `numpy.where()`: This function can be used to replace values. It is similar to 'ifelse' in R.\n",
    "* `numpy.unique()`: This function can be used to find unique values in an array."
   ]
  },
  {
   "cell_type": "code",
   "execution_count": 8,
   "id": "0c15d10c",
   "metadata": {},
   "outputs": [
    {
     "data": {
      "text/plain": [
       "(1000, 12)"
      ]
     },
     "execution_count": 8,
     "metadata": {},
     "output_type": "execute_result"
    }
   ],
   "source": [
    "data.shape"
   ]
  },
  {
   "cell_type": "code",
   "execution_count": 9,
   "id": "22fe9fa5",
   "metadata": {},
   "outputs": [
    {
     "data": {
      "text/plain": [
       "0     0\n",
       "1     2\n",
       "2     0\n",
       "3     0\n",
       "4     0\n",
       "5     0\n",
       "6     3\n",
       "7     5\n",
       "8     0\n",
       "9     0\n",
       "10    0\n",
       "11    0\n",
       "dtype: int64"
      ]
     },
     "execution_count": 9,
     "metadata": {},
     "output_type": "execute_result"
    }
   ],
   "source": [
    "data.isna().sum()"
   ]
  },
  {
   "cell_type": "code",
   "execution_count": 16,
   "id": "05944878",
   "metadata": {},
   "outputs": [],
   "source": [
    "data.columns = ['Date', 'ProductName', 'Category', 'Val1', 'Val2', 'Val3', 'Region', 'Store', 'Val4','Val5','Val6','Val7']"
   ]
  },
  {
   "cell_type": "code",
   "execution_count": 17,
   "id": "39dce009",
   "metadata": {},
   "outputs": [
    {
     "data": {
      "text/html": [
       "<div>\n",
       "<style scoped>\n",
       "    .dataframe tbody tr th:only-of-type {\n",
       "        vertical-align: middle;\n",
       "    }\n",
       "\n",
       "    .dataframe tbody tr th {\n",
       "        vertical-align: top;\n",
       "    }\n",
       "\n",
       "    .dataframe thead th {\n",
       "        text-align: right;\n",
       "    }\n",
       "</style>\n",
       "<table border=\"1\" class=\"dataframe\">\n",
       "  <thead>\n",
       "    <tr style=\"text-align: right;\">\n",
       "      <th></th>\n",
       "      <th>Date</th>\n",
       "      <th>ProductName</th>\n",
       "      <th>Category</th>\n",
       "      <th>Val1</th>\n",
       "      <th>Val2</th>\n",
       "      <th>Val3</th>\n",
       "      <th>Region</th>\n",
       "      <th>Store</th>\n",
       "      <th>Val4</th>\n",
       "      <th>Val5</th>\n",
       "      <th>Val6</th>\n",
       "      <th>Val7</th>\n",
       "    </tr>\n",
       "  </thead>\n",
       "  <tbody>\n",
       "    <tr>\n",
       "      <th>0</th>\n",
       "      <td>2022-12-21</td>\n",
       "      <td>ProductH</td>\n",
       "      <td>C</td>\n",
       "      <td>825</td>\n",
       "      <td>581</td>\n",
       "      <td>244</td>\n",
       "      <td>East</td>\n",
       "      <td>Classic+</td>\n",
       "      <td>2</td>\n",
       "      <td>2</td>\n",
       "      <td>2</td>\n",
       "      <td>1</td>\n",
       "    </tr>\n",
       "    <tr>\n",
       "      <th>1</th>\n",
       "      <td>2022-03-01</td>\n",
       "      <td>ProductE</td>\n",
       "      <td>A</td>\n",
       "      <td>745</td>\n",
       "      <td>525</td>\n",
       "      <td>220</td>\n",
       "      <td>South</td>\n",
       "      <td>Superstore</td>\n",
       "      <td>5</td>\n",
       "      <td>2</td>\n",
       "      <td>2</td>\n",
       "      <td>4</td>\n",
       "    </tr>\n",
       "    <tr>\n",
       "      <th>2</th>\n",
       "      <td>2022-09-24</td>\n",
       "      <td>ProductF</td>\n",
       "      <td>A</td>\n",
       "      <td>382</td>\n",
       "      <td>65</td>\n",
       "      <td>317</td>\n",
       "      <td>North</td>\n",
       "      <td>Classic</td>\n",
       "      <td>3</td>\n",
       "      <td>1</td>\n",
       "      <td>2</td>\n",
       "      <td>2</td>\n",
       "    </tr>\n",
       "    <tr>\n",
       "      <th>3</th>\n",
       "      <td>2022-08-23</td>\n",
       "      <td>ProductI</td>\n",
       "      <td>C</td>\n",
       "      <td>883</td>\n",
       "      <td>317</td>\n",
       "      <td>566</td>\n",
       "      <td>West</td>\n",
       "      <td>Superstore</td>\n",
       "      <td>5</td>\n",
       "      <td>1</td>\n",
       "      <td>3</td>\n",
       "      <td>4</td>\n",
       "    </tr>\n",
       "    <tr>\n",
       "      <th>4</th>\n",
       "      <td>2022-03-22</td>\n",
       "      <td>ProductC</td>\n",
       "      <td>E</td>\n",
       "      <td>324</td>\n",
       "      <td>104</td>\n",
       "      <td>220</td>\n",
       "      <td>South</td>\n",
       "      <td>Superstore</td>\n",
       "      <td>2</td>\n",
       "      <td>1</td>\n",
       "      <td>3</td>\n",
       "      <td>3</td>\n",
       "    </tr>\n",
       "  </tbody>\n",
       "</table>\n",
       "</div>"
      ],
      "text/plain": [
       "         Date ProductName Category  Val1  Val2  Val3 Region       Store  Val4  \\\n",
       "0  2022-12-21    ProductH        C   825   581   244   East    Classic+     2   \n",
       "1  2022-03-01    ProductE        A   745   525   220  South  Superstore     5   \n",
       "2  2022-09-24    ProductF        A   382    65   317  North     Classic     3   \n",
       "3  2022-08-23    ProductI        C   883   317   566   West  Superstore     5   \n",
       "4  2022-03-22    ProductC        E   324   104   220  South  Superstore     2   \n",
       "\n",
       "   Val5  Val6  Val7  \n",
       "0     2     2     1  \n",
       "1     2     2     4  \n",
       "2     1     2     2  \n",
       "3     1     3     4  \n",
       "4     1     3     3  "
      ]
     },
     "execution_count": 17,
     "metadata": {},
     "output_type": "execute_result"
    }
   ],
   "source": [
    "data.head()"
   ]
  },
  {
   "cell_type": "code",
   "execution_count": 18,
   "id": "6c992db3",
   "metadata": {},
   "outputs": [
    {
     "data": {
      "text/plain": [
       "(998, 12)"
      ]
     },
     "execution_count": 18,
     "metadata": {},
     "output_type": "execute_result"
    }
   ],
   "source": [
    "data = data.dropna(subset=['ProductName'])\n",
    "data.shape"
   ]
  },
  {
   "cell_type": "code",
   "execution_count": 19,
   "id": "01620379",
   "metadata": {},
   "outputs": [
    {
     "data": {
      "text/plain": [
       "Date           0\n",
       "ProductName    0\n",
       "Category       0\n",
       "Val1           0\n",
       "Val2           0\n",
       "Val3           0\n",
       "Region         3\n",
       "Store          5\n",
       "Val4           0\n",
       "Val5           0\n",
       "Val6           0\n",
       "Val7           0\n",
       "dtype: int64"
      ]
     },
     "execution_count": 19,
     "metadata": {},
     "output_type": "execute_result"
    }
   ],
   "source": [
    "data.isna().sum()"
   ]
  },
  {
   "cell_type": "code",
   "execution_count": 23,
   "id": "2f46d5f0",
   "metadata": {},
   "outputs": [
    {
     "data": {
      "image/png": "[encoded data removed]",
      "text/plain": [
       "<Figure size 640x480 with 1 Axes>"
      ]
     },
     "metadata": {},
     "output_type": "display_data"
    }
   ],
   "source": [
    "plt.hist(data['ProductName'])\n",
    "\n",
    "plt.xlabel('Values')\n",
    "plt.ylabel('Frequency')\n",
    "plt.title('Histogram of ProductName')\n",
    "plt.show()"
   ]
  },
  {
   "cell_type": "code",
   "execution_count": 27,
   "id": "b0371dbc",
   "metadata": {},
   "outputs": [
    {
     "data": {
      "text/html": [
       "<div>\n",
       "<style scoped>\n",
       "    .dataframe tbody tr th:only-of-type {\n",
       "        vertical-align: middle;\n",
       "    }\n",
       "\n",
       "    .dataframe tbody tr th {\n",
       "        vertical-align: top;\n",
       "    }\n",
       "\n",
       "    .dataframe thead th {\n",
       "        text-align: right;\n",
       "    }\n",
       "</style>\n",
       "<table border=\"1\" class=\"dataframe\">\n",
       "  <thead>\n",
       "    <tr style=\"text-align: right;\">\n",
       "      <th></th>\n",
       "      <th>Val1</th>\n",
       "      <th>Val2</th>\n",
       "      <th>Val3</th>\n",
       "      <th>Val4</th>\n",
       "      <th>Val5</th>\n",
       "      <th>Val6</th>\n",
       "      <th>Val7</th>\n",
       "    </tr>\n",
       "  </thead>\n",
       "  <tbody>\n",
       "    <tr>\n",
       "      <th>count</th>\n",
       "      <td>998.000000</td>\n",
       "      <td>998.000000</td>\n",
       "      <td>998.000000</td>\n",
       "      <td>998.000000</td>\n",
       "      <td>998.000000</td>\n",
       "      <td>998.000000</td>\n",
       "      <td>998.000000</td>\n",
       "    </tr>\n",
       "    <tr>\n",
       "      <th>mean</th>\n",
       "      <td>557.186373</td>\n",
       "      <td>306.251503</td>\n",
       "      <td>250.934870</td>\n",
       "      <td>3.862725</td>\n",
       "      <td>1.627255</td>\n",
       "      <td>2.064128</td>\n",
       "      <td>4.398798</td>\n",
       "    </tr>\n",
       "    <tr>\n",
       "      <th>std</th>\n",
       "      <td>258.261356</td>\n",
       "      <td>206.416752</td>\n",
       "      <td>204.547059</td>\n",
       "      <td>8.672707</td>\n",
       "      <td>0.564175</td>\n",
       "      <td>0.824582</td>\n",
       "      <td>12.508263</td>\n",
       "    </tr>\n",
       "    <tr>\n",
       "      <th>min</th>\n",
       "      <td>100.000000</td>\n",
       "      <td>52.000000</td>\n",
       "      <td>1.000000</td>\n",
       "      <td>1.000000</td>\n",
       "      <td>1.000000</td>\n",
       "      <td>1.000000</td>\n",
       "      <td>1.000000</td>\n",
       "    </tr>\n",
       "    <tr>\n",
       "      <th>25%</th>\n",
       "      <td>340.500000</td>\n",
       "      <td>135.250000</td>\n",
       "      <td>85.000000</td>\n",
       "      <td>2.000000</td>\n",
       "      <td>1.000000</td>\n",
       "      <td>1.000000</td>\n",
       "      <td>2.000000</td>\n",
       "    </tr>\n",
       "    <tr>\n",
       "      <th>50%</th>\n",
       "      <td>552.500000</td>\n",
       "      <td>256.000000</td>\n",
       "      <td>190.500000</td>\n",
       "      <td>3.000000</td>\n",
       "      <td>2.000000</td>\n",
       "      <td>2.000000</td>\n",
       "      <td>3.000000</td>\n",
       "    </tr>\n",
       "    <tr>\n",
       "      <th>75%</th>\n",
       "      <td>776.500000</td>\n",
       "      <td>430.250000</td>\n",
       "      <td>378.000000</td>\n",
       "      <td>4.000000</td>\n",
       "      <td>2.000000</td>\n",
       "      <td>3.000000</td>\n",
       "      <td>4.000000</td>\n",
       "    </tr>\n",
       "    <tr>\n",
       "      <th>max</th>\n",
       "      <td>998.000000</td>\n",
       "      <td>938.000000</td>\n",
       "      <td>938.000000</td>\n",
       "      <td>99.000000</td>\n",
       "      <td>3.000000</td>\n",
       "      <td>3.000000</td>\n",
       "      <td>99.000000</td>\n",
       "    </tr>\n",
       "  </tbody>\n",
       "</table>\n",
       "</div>"
      ],
      "text/plain": [
       "             Val1        Val2        Val3        Val4        Val5        Val6  \\\n",
       "count  998.000000  998.000000  998.000000  998.000000  998.000000  998.000000   \n",
       "mean   557.186373  306.251503  250.934870    3.862725    1.627255    2.064128   \n",
       "std    258.261356  206.416752  204.547059    8.672707    0.564175    0.824582   \n",
       "min    100.000000   52.000000    1.000000    1.000000    1.000000    1.000000   \n",
       "25%    340.500000  135.250000   85.000000    2.000000    1.000000    1.000000   \n",
       "50%    552.500000  256.000000  190.500000    3.000000    2.000000    2.000000   \n",
       "75%    776.500000  430.250000  378.000000    4.000000    2.000000    3.000000   \n",
       "max    998.000000  938.000000  938.000000   99.000000    3.000000    3.000000   \n",
       "\n",
       "             Val7  \n",
       "count  998.000000  \n",
       "mean     4.398798  \n",
       "std     12.508263  \n",
       "min      1.000000  \n",
       "25%      2.000000  \n",
       "50%      3.000000  \n",
       "75%      4.000000  \n",
       "max     99.000000  "
      ]
     },
     "execution_count": 27,
     "metadata": {},
     "output_type": "execute_result"
    }
   ],
   "source": [
    "data.describe()"
   ]
  },
  {
   "cell_type": "code",
   "execution_count": 28,
   "id": "78196490",
   "metadata": {},
   "outputs": [
    {
     "name": "stdout",
     "output_type": "stream",
     "text": [
      "Collecting seaborn\n",
      "  Downloading seaborn-0.12.2-py3-none-any.whl (293 kB)\n",
      "\u001b[2K     \u001b[90m━━━━━━━━━━━━━━━━━━━━━━━━━━━━━━━━━━━━━━━\u001b[0m \u001b[32m293.3/293.3 kB\u001b[0m \u001b[31m4.1 MB/s\u001b[0m eta \u001b[36m0:00:00\u001b[0ma \u001b[36m0:00:01\u001b[0m\n",
      "\u001b[?25hRequirement already satisfied: numpy!=1.24.0,>=1.17 in /Library/Frameworks/Python.framework/Versions/3.11/lib/python3.11/site-packages (from seaborn) (1.25.0)\n",
      "Requirement already satisfied: pandas>=0.25 in /Library/Frameworks/Python.framework/Versions/3.11/lib/python3.11/site-packages (from seaborn) (2.0.2)\n",
      "Requirement already satisfied: matplotlib!=3.6.1,>=3.1 in /Library/Frameworks/Python.framework/Versions/3.11/lib/python3.11/site-packages (from seaborn) (3.7.1)\n",
      "Requirement already satisfied: contourpy>=1.0.1 in /Library/Frameworks/Python.framework/Versions/3.11/lib/python3.11/site-packages (from matplotlib!=3.6.1,>=3.1->seaborn) (1.1.0)\n",
      "Requirement already satisfied: cycler>=0.10 in /Library/Frameworks/Python.framework/Versions/3.11/lib/python3.11/site-packages (from matplotlib!=3.6.1,>=3.1->seaborn) (0.11.0)\n",
      "Requirement already satisfied: fonttools>=4.22.0 in /Library/Frameworks/Python.framework/Versions/3.11/lib/python3.11/site-packages (from matplotlib!=3.6.1,>=3.1->seaborn) (4.40.0)\n",
      "Requirement already satisfied: kiwisolver>=1.0.1 in /Library/Frameworks/Python.framework/Versions/3.11/lib/python3.11/site-packages (from matplotlib!=3.6.1,>=3.1->seaborn) (1.4.4)\n",
      "Requirement already satisfied: packaging>=20.0 in /Users/aflores/Library/Python/3.11/lib/python/site-packages (from matplotlib!=3.6.1,>=3.1->seaborn) (23.1)\n",
      "Requirement already satisfied: pillow>=6.2.0 in /Library/Frameworks/Python.framework/Versions/3.11/lib/python3.11/site-packages (from matplotlib!=3.6.1,>=3.1->seaborn) (9.5.0)\n",
      "Requirement already satisfied: pyparsing>=2.3.1 in /Library/Frameworks/Python.framework/Versions/3.11/lib/python3.11/site-packages (from matplotlib!=3.6.1,>=3.1->seaborn) (3.1.0)\n",
      "Requirement already satisfied: python-dateutil>=2.7 in /Users/aflores/Library/Python/3.11/lib/python/site-packages (from matplotlib!=3.6.1,>=3.1->seaborn) (2.8.2)\n",
      "Requirement already satisfied: pytz>=2020.1 in /Library/Frameworks/Python.framework/Versions/3.11/lib/python3.11/site-packages (from pandas>=0.25->seaborn) (2023.3)\n",
      "Requirement already satisfied: tzdata>=2022.1 in /Library/Frameworks/Python.framework/Versions/3.11/lib/python3.11/site-packages (from pandas>=0.25->seaborn) (2023.3)\n",
      "Requirement already satisfied: six>=1.5 in /Users/aflores/Library/Python/3.11/lib/python/site-packages (from python-dateutil>=2.7->matplotlib!=3.6.1,>=3.1->seaborn) (1.16.0)\n",
      "Installing collected packages: seaborn\n",
      "Successfully installed seaborn-0.12.2\n",
      "Note: you may need to restart the kernel to use updated packages.\n"
     ]
    }
   ],
   "source": [
    "pip install seaborn"
   ]
  },
  {
   "cell_type": "code",
   "execution_count": 29,
   "id": "1034dce1",
   "metadata": {},
   "outputs": [],
   "source": [
    "import seaborn as sns"
   ]
  },
  {
   "cell_type": "code",
   "execution_count": 33,
   "id": "e31aea71",
   "metadata": {},
   "outputs": [],
   "source": [
    "data=data.rename(columns={0:'Date', 1:'Product', 2:'Production_Type', 3:'Col1', 4:'Col2',5:'Col3', 6:'Location', 7:'STORE Type', 8:'Col4', 9:'Col5', 10:'Col6',11:'Col7'})"
   ]
  },
  {
   "cell_type": "code",
   "execution_count": 35,
   "id": "fe9c64d7",
   "metadata": {},
   "outputs": [],
   "source": [
    "# ax = sns.heatmap(data.corr())\n",
    "# plt.show()"
   ]
  },
  {
   "cell_type": "markdown",
   "id": "15e0bd6b",
   "metadata": {},
   "source": [
    "## Takeaways\n",
    "Use STAR method to answer following questions:\n",
    "1. What data cleaning steps did you take? If data was removed, what/how much was removed? \n",
    "2. Which products/regions have the most sales? The least? \n",
    "    1. How might this inform business decisions? \n",
    "3. How do the histograms/boxplots/correlation matrices you made relate to actionable business insights?\n",
    "\n",
    "ATTN: DM Theresa \n",
    "\n",
    "**My WriteUp:**\n",
    "\n",
    "Given the dataset that was provided, our group worked to analyze the data to draw insights and see how we could use the provided data to make business decisions.  \n",
    "We created a plan of action of how we wanted to go about analyzing the data set starting off with checking for missing values, identifying the data types of each column, trying to assign meaning to the different  "
   ]
  },
  {
   "cell_type": "code",
   "execution_count": null,
   "id": "5be20127",
   "metadata": {},
   "outputs": [],
   "source": []
  }
 ],
 "metadata": {
  "kernelspec": {
   "display_name": "Python 3 (ipykernel)",
   "language": "python",
   "name": "python3"
  },
  "language_info": {
   "codemirror_mode": {
    "name": "ipython",
    "version": 3
   },
   "file_extension": ".py",
   "mimetype": "text/x-python",
   "name": "python",
   "nbconvert_exporter": "python",
   "pygments_lexer": "ipython3",
   "version": "3.11.1"
  }
 },
 "nbformat": 4,
 "nbformat_minor": 5
}
